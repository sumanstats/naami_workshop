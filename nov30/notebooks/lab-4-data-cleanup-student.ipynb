{
 "cells": [
  {
   "cell_type": "markdown",
   "metadata": {
    "slideshow": {
     "slide_type": "slide"
    }
   },
   "source": [
    "# Data Cleanup and Transformation"
   ]
  },
  {
   "cell_type": "markdown",
   "metadata": {
    "slideshow": {
     "slide_type": "slide"
    }
   },
   "source": [
    "## Open CSV data for cleanup"
   ]
  },
  {
   "cell_type": "code",
   "execution_count": 1,
   "metadata": {
    "slideshow": {
     "slide_type": "fragment"
    }
   },
   "outputs": [],
   "source": [
    "import pandas as pd\n",
    "df = pd.read_csv(\"../data/doi_companies_pdf.csv\")"
   ]
  },
  {
   "cell_type": "code",
   "execution_count": 2,
   "metadata": {
    "slideshow": {
     "slide_type": "fragment"
    }
   },
   "outputs": [
    {
     "data": {
      "text/html": [
       "<div>\n",
       "<style scoped>\n",
       "    .dataframe tbody tr th:only-of-type {\n",
       "        vertical-align: middle;\n",
       "    }\n",
       "\n",
       "    .dataframe tbody tr th {\n",
       "        vertical-align: top;\n",
       "    }\n",
       "\n",
       "    .dataframe thead th {\n",
       "        text-align: right;\n",
       "    }\n",
       "</style>\n",
       "<table border=\"1\" class=\"dataframe\">\n",
       "  <thead>\n",
       "    <tr style=\"text-align: right;\">\n",
       "      <th></th>\n",
       "      <th>sn</th>\n",
       "      <th>register_date</th>\n",
       "      <th>investor</th>\n",
       "      <th>name</th>\n",
       "      <th>address</th>\n",
       "      <th>district</th>\n",
       "      <th>total_capital</th>\n",
       "      <th>fixed_capital</th>\n",
       "      <th>working_capital</th>\n",
       "      <th>annual_capacity</th>\n",
       "      <th>employment</th>\n",
       "      <th>category</th>\n",
       "      <th>scale</th>\n",
       "      <th>power</th>\n",
       "      <th>investment</th>\n",
       "    </tr>\n",
       "  </thead>\n",
       "  <tbody>\n",
       "    <tr>\n",
       "      <th>0</th>\n",
       "      <td>1</td>\n",
       "      <td>43327</td>\n",
       "      <td>NaN</td>\n",
       "      <td>HIMAL IRON &amp; STEEL PVT.LTD</td>\n",
       "      <td>पसा िज ला</td>\n",
       "      <td>PARSA</td>\n",
       "      <td>364369000</td>\n",
       "      <td>345360000</td>\n",
       "      <td>19009000</td>\n",
       "      <td>IRON ROD 75000 MT</td>\n",
       "      <td>0</td>\n",
       "      <td>MANUFACTURING</td>\n",
       "      <td>LARGE</td>\n",
       "      <td>3975 KW</td>\n",
       "      <td>Local - 100%</td>\n",
       "    </tr>\n",
       "    <tr>\n",
       "      <th>1</th>\n",
       "      <td>2</td>\n",
       "      <td>44620</td>\n",
       "      <td>CHANDRA MAN GURUNG</td>\n",
       "      <td>KALPANA CINEMA HALL</td>\n",
       "      <td>का क िज ला</td>\n",
       "      <td>KASKI</td>\n",
       "      <td>40000000</td>\n",
       "      <td>34600000</td>\n",
       "      <td>5400000</td>\n",
       "      <td>ENTTERTAINMENT, FILM SHOWS 805 SEATS</td>\n",
       "      <td>21</td>\n",
       "      <td>SERVICE</td>\n",
       "      <td>MEDIUM</td>\n",
       "      <td>0</td>\n",
       "      <td>Local - 100%</td>\n",
       "    </tr>\n",
       "    <tr>\n",
       "      <th>2</th>\n",
       "      <td>3</td>\n",
       "      <td>44640</td>\n",
       "      <td>RAM SHANKER SHRESHTA</td>\n",
       "      <td>SHANKATA HOTEL</td>\n",
       "      <td>काठमाड िज ला</td>\n",
       "      <td>KATHMANDU</td>\n",
       "      <td>0</td>\n",
       "      <td>0</td>\n",
       "      <td>0</td>\n",
       "      <td>HOTEL, 135 ROOMS</td>\n",
       "      <td>40</td>\n",
       "      <td>TOURISM</td>\n",
       "      <td>SMALL</td>\n",
       "      <td>10</td>\n",
       "      <td>Local - 100%</td>\n",
       "    </tr>\n",
       "    <tr>\n",
       "      <th>3</th>\n",
       "      <td>4</td>\n",
       "      <td>47553</td>\n",
       "      <td>ी वस त कुमार चौधर समेत</td>\n",
       "      <td>PASHUPATI BISCUITS INDUSTRIES PVT. LTD.</td>\n",
       "      <td>स नु स र िज ला दहु वी गा. व.स. वडा न.ं ७</td>\n",
       "      <td>SUNSARI</td>\n",
       "      <td>200000000</td>\n",
       "      <td>148000000</td>\n",
       "      <td>52000000</td>\n",
       "      <td>BISCUIT 2700 M.T., CHOCOLATE CANDY 600 M.T., B...</td>\n",
       "      <td>165</td>\n",
       "      <td>MANUFACTURING</td>\n",
       "      <td>SMALL</td>\n",
       "      <td>1000 KVA</td>\n",
       "      <td>Local - 100%</td>\n",
       "    </tr>\n",
       "    <tr>\n",
       "      <th>4</th>\n",
       "      <td>5</td>\n",
       "      <td>47671</td>\n",
       "      <td>NaN</td>\n",
       "      <td>NARAYANI HOTEL PVT. LTD.</td>\n",
       "      <td>ल लतपरु िज ला</td>\n",
       "      <td>LALITPUR</td>\n",
       "      <td>74749000</td>\n",
       "      <td>70000000</td>\n",
       "      <td>4749000</td>\n",
       "      <td>HOTEL SERVICE 113 ROOMS</td>\n",
       "      <td>189</td>\n",
       "      <td>TOURISM</td>\n",
       "      <td>MEDIUM</td>\n",
       "      <td>40 KW</td>\n",
       "      <td>Local - 100%</td>\n",
       "    </tr>\n",
       "  </tbody>\n",
       "</table>\n",
       "</div>"
      ],
      "text/plain": [
       "   sn register_date                investor  \\\n",
       "0   1         43327                     NaN   \n",
       "1   2         44620      CHANDRA MAN GURUNG   \n",
       "2   3         44640    RAM SHANKER SHRESHTA   \n",
       "3   4         47553  ी वस त कुमार चौधर समेत   \n",
       "4   5         47671                     NaN   \n",
       "\n",
       "                                      name  \\\n",
       "0               HIMAL IRON & STEEL PVT.LTD   \n",
       "1                      KALPANA CINEMA HALL   \n",
       "2                           SHANKATA HOTEL   \n",
       "3  PASHUPATI BISCUITS INDUSTRIES PVT. LTD.   \n",
       "4                 NARAYANI HOTEL PVT. LTD.   \n",
       "\n",
       "                                    address   district total_capital  \\\n",
       "0                                 पसा िज ला      PARSA     364369000   \n",
       "1                                का क िज ला      KASKI      40000000   \n",
       "2                              काठमाड िज ला  KATHMANDU             0   \n",
       "3  स नु स र िज ला दहु वी गा. व.स. वडा न.ं ७    SUNSARI     200000000   \n",
       "4                             ल लतपरु िज ला   LALITPUR      74749000   \n",
       "\n",
       "  fixed_capital  working_capital  \\\n",
       "0     345360000         19009000   \n",
       "1      34600000          5400000   \n",
       "2             0                0   \n",
       "3     148000000         52000000   \n",
       "4      70000000          4749000   \n",
       "\n",
       "                                     annual_capacity  employment  \\\n",
       "0                                  IRON ROD 75000 MT           0   \n",
       "1               ENTTERTAINMENT, FILM SHOWS 805 SEATS          21   \n",
       "2                                   HOTEL, 135 ROOMS          40   \n",
       "3  BISCUIT 2700 M.T., CHOCOLATE CANDY 600 M.T., B...         165   \n",
       "4                            HOTEL SERVICE 113 ROOMS         189   \n",
       "\n",
       "        category   scale     power    investment  \n",
       "0  MANUFACTURING   LARGE   3975 KW  Local - 100%  \n",
       "1        SERVICE  MEDIUM         0  Local - 100%  \n",
       "2        TOURISM   SMALL        10  Local - 100%  \n",
       "3  MANUFACTURING   SMALL  1000 KVA  Local - 100%  \n",
       "4        TOURISM  MEDIUM     40 KW  Local - 100%  "
      ]
     },
     "execution_count": 2,
     "metadata": {},
     "output_type": "execute_result"
    }
   ],
   "source": [
    "df.head()"
   ]
  },
  {
   "cell_type": "code",
   "execution_count": null,
   "metadata": {},
   "outputs": [],
   "source": [
    "df.drop()"
   ]
  },
  {
   "cell_type": "markdown",
   "metadata": {
    "slideshow": {
     "slide_type": "slide"
    }
   },
   "source": [
    "## Extract year from date"
   ]
  },
  {
   "cell_type": "markdown",
   "metadata": {
    "slideshow": {
     "slide_type": "fragment"
    }
   },
   "source": [
    "Lets try with date of first row. Lets see all the fields of the first row using iloc"
   ]
  },
  {
   "cell_type": "code",
   "execution_count": 4,
   "metadata": {
    "slideshow": {
     "slide_type": "fragment"
    }
   },
   "outputs": [
    {
     "data": {
      "text/plain": [
       "sn                                          1\n",
       "register_date                           43327\n",
       "investor                                  NaN\n",
       "name               HIMAL IRON & STEEL PVT.LTD\n",
       "address                             पसा िज ला\n",
       "district                                PARSA\n",
       "total_capital                       364369000\n",
       "fixed_capital                       345360000\n",
       "working_capital                      19009000\n",
       "annual_capacity             IRON ROD 75000 MT\n",
       "employment                                  0\n",
       "category                        MANUFACTURING\n",
       "scale                                   LARGE\n",
       "power                                 3975 KW\n",
       "investment                       Local - 100%\n",
       "Name: 0, dtype: object"
      ]
     },
     "execution_count": 4,
     "metadata": {},
     "output_type": "execute_result"
    }
   ],
   "source": [
    "df.iloc[0]"
   ]
  },
  {
   "cell_type": "code",
   "execution_count": 5,
   "metadata": {},
   "outputs": [
    {
     "data": {
      "text/plain": [
       "'43327'"
      ]
     },
     "execution_count": 5,
     "metadata": {},
     "output_type": "execute_result"
    }
   ],
   "source": [
    "df.iloc[0]['register_date']"
   ]
  },
  {
   "cell_type": "markdown",
   "metadata": {},
   "source": [
    "We can just extract the date field from the first row."
   ]
  },
  {
   "cell_type": "code",
   "execution_count": null,
   "metadata": {
    "slideshow": {
     "slide_type": "fragment"
    }
   },
   "outputs": [],
   "source": [
    "??"
   ]
  },
  {
   "cell_type": "markdown",
   "metadata": {
    "slideshow": {
     "slide_type": "subslide"
    }
   },
   "source": [
    "We follow the instruction given in stackoverflow to convert excel date to python datetime\n",
    "\n",
    "https://stackoverflow.com/questions/38454403/convert-excel-style-date-with-pandas"
   ]
  },
  {
   "cell_type": "code",
   "execution_count": 6,
   "metadata": {
    "slideshow": {
     "slide_type": "fragment"
    }
   },
   "outputs": [
    {
     "data": {
      "text/plain": [
       "DatetimeIndex(['2018-08-15'], dtype='datetime64[ns]', freq=None)"
      ]
     },
     "execution_count": 6,
     "metadata": {},
     "output_type": "execute_result"
    }
   ],
   "source": [
    "import datetime as dt\n",
    "dateval = pd.TimedeltaIndex([int(43327)],unit='d') + dt.datetime(1899, 12, 30)\n",
    "dateval"
   ]
  },
  {
   "cell_type": "code",
   "execution_count": 10,
   "metadata": {
    "slideshow": {
     "slide_type": "fragment"
    }
   },
   "outputs": [
    {
     "data": {
      "text/plain": [
       "sn                  int64\n",
       "register_date      object\n",
       "investor           object\n",
       "name               object\n",
       "address            object\n",
       "district           object\n",
       "total_capital      object\n",
       "fixed_capital      object\n",
       "working_capital     int64\n",
       "annual_capacity    object\n",
       "employment          int64\n",
       "category           object\n",
       "scale              object\n",
       "power              object\n",
       "investment         object\n",
       "dtype: object"
      ]
     },
     "execution_count": 10,
     "metadata": {},
     "output_type": "execute_result"
    }
   ],
   "source": [
    "df.dtypes"
   ]
  },
  {
   "cell_type": "markdown",
   "metadata": {
    "slideshow": {
     "slide_type": "subslide"
    }
   },
   "source": [
    "Lets apply this to all the rows."
   ]
  },
  {
   "cell_type": "code",
   "execution_count": 11,
   "metadata": {
    "slideshow": {
     "slide_type": "fragment"
    }
   },
   "outputs": [
    {
     "ename": "ValueError",
     "evalue": "Unable to parse string \"2069-04-31\" at position 4872",
     "output_type": "error",
     "traceback": [
      "\u001b[1;31m---------------------------------------------------------------------------\u001b[0m",
      "\u001b[1;31mValueError\u001b[0m                                Traceback (most recent call last)",
      "\u001b[1;32mpandas/_libs/lib.pyx\u001b[0m in \u001b[0;36mpandas._libs.lib.maybe_convert_numeric\u001b[1;34m()\u001b[0m\n",
      "\u001b[1;31mValueError\u001b[0m: Unable to parse string \"2069-04-31\"",
      "\nDuring handling of the above exception, another exception occurred:\n",
      "\u001b[1;31mValueError\u001b[0m                                Traceback (most recent call last)",
      "\u001b[1;32m<ipython-input-11-7972610b80b7>\u001b[0m in \u001b[0;36m<module>\u001b[1;34m\u001b[0m\n\u001b[1;32m----> 1\u001b[1;33m \u001b[0mpd\u001b[0m\u001b[1;33m.\u001b[0m\u001b[0mTimedeltaIndex\u001b[0m\u001b[1;33m(\u001b[0m\u001b[1;33m[\u001b[0m\u001b[0mpd\u001b[0m\u001b[1;33m.\u001b[0m\u001b[0mto_numeric\u001b[0m\u001b[1;33m(\u001b[0m\u001b[0mdf\u001b[0m\u001b[1;33m[\u001b[0m\u001b[1;34m\"register_date\"\u001b[0m\u001b[1;33m]\u001b[0m\u001b[1;33m)\u001b[0m\u001b[1;33m]\u001b[0m\u001b[1;33m,\u001b[0m\u001b[0munit\u001b[0m\u001b[1;33m=\u001b[0m\u001b[1;34m'd'\u001b[0m\u001b[1;33m)\u001b[0m \u001b[1;33m+\u001b[0m \u001b[0mdt\u001b[0m\u001b[1;33m.\u001b[0m\u001b[0mdatetime\u001b[0m\u001b[1;33m(\u001b[0m\u001b[1;36m1899\u001b[0m\u001b[1;33m,\u001b[0m \u001b[1;36m12\u001b[0m\u001b[1;33m,\u001b[0m \u001b[1;36m30\u001b[0m\u001b[1;33m)\u001b[0m\u001b[1;33m\u001b[0m\u001b[1;33m\u001b[0m\u001b[0m\n\u001b[0m",
      "\u001b[1;32m~\\Miniconda3\\lib\\site-packages\\pandas\\core\\tools\\numeric.py\u001b[0m in \u001b[0;36mto_numeric\u001b[1;34m(arg, errors, downcast)\u001b[0m\n\u001b[0;32m    149\u001b[0m             \u001b[0mcoerce_numeric\u001b[0m \u001b[1;33m=\u001b[0m \u001b[0merrors\u001b[0m \u001b[1;32mnot\u001b[0m \u001b[1;32min\u001b[0m \u001b[1;33m(\u001b[0m\u001b[1;34m\"ignore\"\u001b[0m\u001b[1;33m,\u001b[0m \u001b[1;34m\"raise\"\u001b[0m\u001b[1;33m)\u001b[0m\u001b[1;33m\u001b[0m\u001b[1;33m\u001b[0m\u001b[0m\n\u001b[0;32m    150\u001b[0m             values = lib.maybe_convert_numeric(\n\u001b[1;32m--> 151\u001b[1;33m                 \u001b[0mvalues\u001b[0m\u001b[1;33m,\u001b[0m \u001b[0mset\u001b[0m\u001b[1;33m(\u001b[0m\u001b[1;33m)\u001b[0m\u001b[1;33m,\u001b[0m \u001b[0mcoerce_numeric\u001b[0m\u001b[1;33m=\u001b[0m\u001b[0mcoerce_numeric\u001b[0m\u001b[1;33m\u001b[0m\u001b[1;33m\u001b[0m\u001b[0m\n\u001b[0m\u001b[0;32m    152\u001b[0m             )\n\u001b[0;32m    153\u001b[0m \u001b[1;33m\u001b[0m\u001b[0m\n",
      "\u001b[1;32mpandas/_libs/lib.pyx\u001b[0m in \u001b[0;36mpandas._libs.lib.maybe_convert_numeric\u001b[1;34m()\u001b[0m\n",
      "\u001b[1;31mValueError\u001b[0m: Unable to parse string \"2069-04-31\" at position 4872"
     ]
    }
   ],
   "source": [
    "pd.TimedeltaIndex([pd.to_numeric(df[\"register_date\"])],unit='d') + dt.datetime(1899, 12, 30)"
   ]
  },
  {
   "cell_type": "markdown",
   "metadata": {
    "slideshow": {
     "slide_type": "fragment"
    }
   },
   "source": [
    "There are \"2069-04-31\" dates in the rows. Excel didn't convert these because this is invalid english date."
   ]
  },
  {
   "cell_type": "markdown",
   "metadata": {
    "slideshow": {
     "slide_type": "subslide"
    }
   },
   "source": [
    "Lets identity the rows with such date \"2069-04-31\"."
   ]
  },
  {
   "cell_type": "code",
   "execution_count": 12,
   "metadata": {
    "slideshow": {
     "slide_type": "fragment"
    }
   },
   "outputs": [
    {
     "data": {
      "text/plain": [
       "4872    2069-04-31\n",
       "4873    2069-04-32\n",
       "4874    2069-04-32\n",
       "4875    2069-04-32\n",
       "5231    2070-02-29\n",
       "Name: register_date, dtype: object"
      ]
     },
     "execution_count": 12,
     "metadata": {},
     "output_type": "execute_result"
    }
   ],
   "source": [
    "df[df[\"register_date\"].str.contains(\"-\")==True][\"register_date\"].head()"
   ]
  },
  {
   "cell_type": "markdown",
   "metadata": {
    "slideshow": {
     "slide_type": "fragment"
    }
   },
   "source": [
    "Since this is string (object), we can now extract the first 4 char (year) from the above values."
   ]
  },
  {
   "cell_type": "code",
   "execution_count": 13,
   "metadata": {
    "slideshow": {
     "slide_type": "fragment"
    }
   },
   "outputs": [
    {
     "data": {
      "text/plain": [
       "4872    2069\n",
       "4873    2069\n",
       "4874    2069\n",
       "4875    2069\n",
       "5231    2070\n",
       "5232    2070\n",
       "5233    2070\n",
       "5234    2070\n",
       "5313    2070\n",
       "5602    2071\n",
       "5603    2071\n",
       "5643    2071\n",
       "5644    2071\n",
       "5645    2071\n",
       "5646    2071\n",
       "5768    2071\n",
       "6041    2072\n",
       "6042    2072\n",
       "6043    2072\n",
       "6044    2072\n",
       "6045    2072\n",
       "6046    2072\n",
       "6047    2072\n",
       "6048    2072\n",
       "6049    2072\n",
       "6050    2072\n",
       "6051    2072\n",
       "6141    2072\n",
       "6454    2073\n",
       "6455    2073\n",
       "6456    2073\n",
       "6457    2073\n",
       "6458    2073\n",
       "6459    2073\n",
       "Name: register_date, dtype: object"
      ]
     },
     "execution_count": 13,
     "metadata": {},
     "output_type": "execute_result"
    }
   ],
   "source": [
    "df[df[\"register_date\"].str.contains(\"-\")==True][\"register_date\"].str[0:4]"
   ]
  },
  {
   "cell_type": "code",
   "execution_count": 16,
   "metadata": {},
   "outputs": [
    {
     "data": {
      "text/plain": [
       "4872    2069\n",
       "4873    2069\n",
       "4874    2069\n",
       "4875    2069\n",
       "5231    2070\n",
       "Name: register_date, dtype: object"
      ]
     },
     "execution_count": 16,
     "metadata": {},
     "output_type": "execute_result"
    }
   ],
   "source": [
    "df[df[\"register_date\"].str.contains(\"-\")==True][\"register_date\"].head().str[:4]"
   ]
  },
  {
   "cell_type": "markdown",
   "metadata": {
    "slideshow": {
     "slide_type": "subslide"
    }
   },
   "source": [
    "Now we can find the dates with numeric values."
   ]
  },
  {
   "cell_type": "code",
   "execution_count": 17,
   "metadata": {
    "slideshow": {
     "slide_type": "fragment"
    }
   },
   "outputs": [
    {
     "name": "stdout",
     "output_type": "stream",
     "text": [
      "0    43327\n",
      "1    44620\n",
      "2    44640\n",
      "Name: register_date, dtype: object\n"
     ]
    }
   ],
   "source": [
    "print(df[df[\"register_date\"].str.contains(\"-\")==False][\"register_date\"].head(3))"
   ]
  },
  {
   "cell_type": "markdown",
   "metadata": {
    "slideshow": {
     "slide_type": "subslide"
    }
   },
   "source": [
    "Now lets create a new column \"register_year\" following the above code."
   ]
  },
  {
   "cell_type": "code",
   "execution_count": 27,
   "metadata": {
    "scrolled": true,
    "slideshow": {
     "slide_type": "fragment"
    }
   },
   "outputs": [
    {
     "name": "stdout",
     "output_type": "stream",
     "text": [
      "register_year\n",
      "2018.0      1\n",
      "2022.0      2\n",
      "2030.0      4\n",
      "2032.0      1\n",
      "2033.0      2\n",
      "2034.0      2\n",
      "2035.0      2\n",
      "2037.0      2\n",
      "2038.0      1\n",
      "2039.0      5\n",
      "2040.0      1\n",
      "2041.0      2\n",
      "2042.0      3\n",
      "2043.0      5\n",
      "2044.0      4\n",
      "2045.0      6\n",
      "2046.0      4\n",
      "2047.0     96\n",
      "2048.0    177\n",
      "2049.0    878\n",
      "2050.0    127\n",
      "2051.0    193\n",
      "2052.0    335\n",
      "2053.0    290\n",
      "2054.0    147\n",
      "2055.0     95\n",
      "2056.0    146\n",
      "2057.0    162\n",
      "2058.0    144\n",
      "2059.0    104\n",
      "2060.0    149\n",
      "2061.0    108\n",
      "2062.0    121\n",
      "2063.0    140\n",
      "2064.0    224\n",
      "2065.0    276\n",
      "2066.0    275\n",
      "2067.0    241\n",
      "2068.0    260\n",
      "2069.0    393\n",
      "2070.0    374\n",
      "2071.0    471\n",
      "2072.0    390\n",
      "2073.0    156\n",
      "dtype: int64\n"
     ]
    }
   ],
   "source": [
    "import datetime as dt\n",
    "dateval = pd.TimedeltaIndex(pd.to_numeric(df[df[\"register_date\"].str.contains(\"-\")==False][\"register_date\"]), unit = \"d\")  + dt.datetime(1899, 12, 30)\n",
    "\n",
    "#print(dateval)\n",
    "df.loc[df[\"register_date\"].str.contains(\"-\")==False,\"register_year\"] = dateval.year\n",
    "df.loc[df[\"register_date\"].str.contains(\"-\")==True,\"register_year\"] = pd.to_numeric(df[df[\"register_date\"].str.contains(\"-\")==True][\"register_date\"].str[:4])\n",
    "\n",
    "#df.dtypes\n",
    "#df['register_year'].value_counts()\n",
    "print(df.groupby(\"register_year\").size())\n",
    "#print(type(dateval))"
   ]
  },
  {
   "cell_type": "code",
   "execution_count": 28,
   "metadata": {},
   "outputs": [
    {
     "name": "stdout",
     "output_type": "stream",
     "text": [
      "register_month\n",
      "1.0     544\n",
      "2.0     719\n",
      "3.0     739\n",
      "4.0     613\n",
      "5.0     611\n",
      "6.0     553\n",
      "7.0     556\n",
      "8.0     472\n",
      "9.0     411\n",
      "10.0    416\n",
      "11.0    396\n",
      "12.0    489\n",
      "dtype: int64\n"
     ]
    }
   ],
   "source": [
    "import datetime as dt\n",
    "dateval = pd.TimedeltaIndex(pd.to_numeric(df[df[\"register_date\"].str.contains(\"-\")==False][\"register_date\"]), unit = \"d\")  + dt.datetime(1899, 12, 30)\n",
    "\n",
    "#print(dateval)\n",
    "df.loc[df[\"register_date\"].str.contains(\"-\")==False,\"register_month\"] = dateval.month\n",
    "df.loc[df[\"register_date\"].str.contains(\"-\")==True,\"register_month\"] = pd.to_numeric(df[df[\"register_date\"].str.contains(\"-\")==True][\"register_date\"].str[5:7])\n",
    "\n",
    "#df.dtypes\n",
    "#df['register_year'].value_counts()\n",
    "print(df.groupby(\"register_month\").size())\n",
    "#print(type(dateval))"
   ]
  },
  {
   "cell_type": "code",
   "execution_count": 33,
   "metadata": {},
   "outputs": [
    {
     "name": "stdout",
     "output_type": "stream",
     "text": [
      "register_year  register_month\n",
      "2018.0         8.0                1\n",
      "2022.0         2.0                1\n",
      "               3.0                1\n",
      "2030.0         3.0                1\n",
      "               7.0                2\n",
      "                                 ..\n",
      "2072.0         11.0              23\n",
      "               12.0              33\n",
      "2073.0         1.0               36\n",
      "               2.0               61\n",
      "               3.0               59\n",
      "Length: 356, dtype: int64\n"
     ]
    }
   ],
   "source": [
    "print(df.groupby([\"register_year\",\"register_month\"]).size())"
   ]
  },
  {
   "cell_type": "markdown",
   "metadata": {
    "slideshow": {
     "slide_type": "slide"
    }
   },
   "source": [
    "## Check District names"
   ]
  },
  {
   "cell_type": "markdown",
   "metadata": {
    "slideshow": {
     "slide_type": "fragment"
    }
   },
   "source": [
    "Lets do quick summary of district names."
   ]
  },
  {
   "cell_type": "code",
   "execution_count": 34,
   "metadata": {
    "slideshow": {
     "slide_type": "fragment"
    }
   },
   "outputs": [
    {
     "data": {
      "text/plain": [
       "district\n",
       "ACHHAM          4\n",
       "ARGHAKHACHI     3\n",
       "BAGLUNG         8\n",
       "BAITADI         6\n",
       "BAJHANG         4\n",
       "               ..\n",
       "SYANGJA         4\n",
       "TANAHU         18\n",
       "TAPLEJUNG      11\n",
       "TEHRATHUM       5\n",
       "UDAYPUR         5\n",
       "Length: 74, dtype: int64"
      ]
     },
     "execution_count": 34,
     "metadata": {},
     "output_type": "execute_result"
    }
   ],
   "source": [
    "df.groupby(\"district\").size()"
   ]
  },
  {
   "cell_type": "markdown",
   "metadata": {
    "slideshow": {
     "slide_type": "subslide"
    }
   },
   "source": [
    "We don't see all the names. Lets display full list. "
   ]
  },
  {
   "cell_type": "code",
   "execution_count": 35,
   "metadata": {
    "slideshow": {
     "slide_type": "fragment"
    }
   },
   "outputs": [
    {
     "name": "stdout",
     "output_type": "stream",
     "text": [
      "district\n",
      "ACHHAM                4\n",
      "ARGHAKHACHI           3\n",
      "BAGLUNG               8\n",
      "BAITADI               6\n",
      "BAJHANG               4\n",
      "BAJURA                1\n",
      "BANKE                72\n",
      "BARA                214\n",
      "BARDIYA              16\n",
      "BHAKTAPUR           151\n",
      "BHOJPUR               7\n",
      "CHITWAN             176\n",
      "DADELDHURA            5\n",
      "DAILEKH               4\n",
      "DANG                 35\n",
      "DARCHULA              6\n",
      "DHADING              51\n",
      "DHANKUTA             17\n",
      "DHANUSHA             33\n",
      "DOLKHA               33\n",
      "DOLPA                 1\n",
      "DOTI                  6\n",
      "GORKHA               24\n",
      "GULMI                 5\n",
      "HUMLA                 5\n",
      "ILAM                 38\n",
      "JAJARKOT              3\n",
      "JHAPA               104\n",
      "KAILALI              36\n",
      "KALIKOT               4\n",
      "KANCHANPUR           28\n",
      "KAPILBASTU           31\n",
      "KASKI               333\n",
      "KATHMANDU          2931\n",
      "KAVRE               139\n",
      "KHOTANG               4\n",
      "LALITPUR            728\n",
      "LAMJUNG              26\n",
      "MAHOTTARI             5\n",
      "MAKWANPUR           103\n",
      "MANANG                1\n",
      "MORANG              233\n",
      "MUGU                  2\n",
      "MUSTANG               7\n",
      "MYAGDI               14\n",
      "NAWALPARASI         105\n",
      "NUWAKOT              41\n",
      "OKHALDHUND A          1\n",
      "PALPA                 7\n",
      "PANCHATHAR            9\n",
      "PARBAT                3\n",
      "PARSA               151\n",
      "PYUTHAN               2\n",
      "RAMECHHAP            11\n",
      "RASUWA               17\n",
      "RAUTAHAT              9\n",
      "ROLPA                 3\n",
      "RUKUM                 2\n",
      "RUPANDEHI           187\n",
      "SALYAN                1\n",
      "SANKHUWASA BHA       15\n",
      "SAPTARI              12\n",
      "SARLAHI              17\n",
      "SINDHULI              2\n",
      "SINDHUPALCH OWK      44\n",
      "SIRAHA                9\n",
      "SOLUKHUMBU           35\n",
      "SUNSARI             126\n",
      "SURKHET               8\n",
      "SYANGJA               4\n",
      "TANAHU               18\n",
      "TAPLEJUNG            11\n",
      "TEHRATHUM             5\n",
      "UDAYPUR               5\n",
      "dtype: int64\n"
     ]
    }
   ],
   "source": [
    "def print_full(x):\n",
    "    pd.set_option('display.max_rows', len(x))\n",
    "    print(x)\n",
    "    pd.reset_option('display.max_rows')\n",
    "print_full(df.groupby(\"district\").size())"
   ]
  },
  {
   "cell_type": "code",
   "execution_count": 36,
   "metadata": {},
   "outputs": [
    {
     "data": {
      "text/plain": [
       "74"
      ]
     },
     "execution_count": 36,
     "metadata": {},
     "output_type": "execute_result"
    }
   ],
   "source": [
    "df[\"district\"].nunique()"
   ]
  },
  {
   "cell_type": "markdown",
   "metadata": {
    "slideshow": {
     "slide_type": "subslide"
    }
   },
   "source": [
    "All districts' names look ok here. There are few spelling mistakes but we can live with that for now."
   ]
  },
  {
   "cell_type": "markdown",
   "metadata": {
    "slideshow": {
     "slide_type": "slide"
    }
   },
   "source": [
    "## Check \"Total Capital\""
   ]
  },
  {
   "cell_type": "markdown",
   "metadata": {
    "slideshow": {
     "slide_type": "fragment"
    }
   },
   "source": [
    "\"Total Capital\" should be of numeric type. Lets see the types of all the fields."
   ]
  },
  {
   "cell_type": "markdown",
   "metadata": {
    "slideshow": {
     "slide_type": "subslide"
    }
   },
   "source": [
    "### Show field types"
   ]
  },
  {
   "cell_type": "code",
   "execution_count": 37,
   "metadata": {
    "slideshow": {
     "slide_type": "fragment"
    }
   },
   "outputs": [
    {
     "data": {
      "text/plain": [
       "sn                   int64\n",
       "register_date       object\n",
       "investor            object\n",
       "name                object\n",
       "address             object\n",
       "district            object\n",
       "total_capital       object\n",
       "fixed_capital       object\n",
       "working_capital      int64\n",
       "annual_capacity     object\n",
       "employment           int64\n",
       "category            object\n",
       "scale               object\n",
       "power               object\n",
       "investment          object\n",
       "register_year      float64\n",
       "register_month     float64\n",
       "dtype: object"
      ]
     },
     "execution_count": 37,
     "metadata": {},
     "output_type": "execute_result"
    }
   ],
   "source": [
    "df.dtypes"
   ]
  },
  {
   "cell_type": "markdown",
   "metadata": {
    "slideshow": {
     "slide_type": "fragment"
    }
   },
   "source": [
    "We see that total_capital is \"object\" type, which is not numeric. See https://pbpython.com/pandas_dtypes.html for different panda datatypes used."
   ]
  },
  {
   "cell_type": "markdown",
   "metadata": {
    "slideshow": {
     "slide_type": "subslide"
    }
   },
   "source": [
    "### Converting \"total capital\" to numeric"
   ]
  },
  {
   "cell_type": "code",
   "execution_count": 38,
   "metadata": {
    "slideshow": {
     "slide_type": "fragment"
    }
   },
   "outputs": [
    {
     "ename": "ValueError",
     "evalue": "Unable to parse string \"############\" at position 4247",
     "output_type": "error",
     "traceback": [
      "\u001b[1;31m---------------------------------------------------------------------------\u001b[0m",
      "\u001b[1;31mValueError\u001b[0m                                Traceback (most recent call last)",
      "\u001b[1;32mpandas/_libs/lib.pyx\u001b[0m in \u001b[0;36mpandas._libs.lib.maybe_convert_numeric\u001b[1;34m()\u001b[0m\n",
      "\u001b[1;31mValueError\u001b[0m: Unable to parse string \"############\"",
      "\nDuring handling of the above exception, another exception occurred:\n",
      "\u001b[1;31mValueError\u001b[0m                                Traceback (most recent call last)",
      "\u001b[1;32m<ipython-input-38-d497171669c8>\u001b[0m in \u001b[0;36m<module>\u001b[1;34m\u001b[0m\n\u001b[1;32m----> 1\u001b[1;33m \u001b[0mdf\u001b[0m\u001b[1;33m[\u001b[0m\u001b[1;34m\"total_capital\"\u001b[0m\u001b[1;33m]\u001b[0m \u001b[1;33m=\u001b[0m \u001b[0mpd\u001b[0m\u001b[1;33m.\u001b[0m\u001b[0mto_numeric\u001b[0m\u001b[1;33m(\u001b[0m\u001b[0mdf\u001b[0m\u001b[1;33m[\u001b[0m\u001b[1;34m\"total_capital\"\u001b[0m\u001b[1;33m]\u001b[0m\u001b[1;33m)\u001b[0m\u001b[1;33m\u001b[0m\u001b[1;33m\u001b[0m\u001b[0m\n\u001b[0m",
      "\u001b[1;32m~\\Miniconda3\\lib\\site-packages\\pandas\\core\\tools\\numeric.py\u001b[0m in \u001b[0;36mto_numeric\u001b[1;34m(arg, errors, downcast)\u001b[0m\n\u001b[0;32m    149\u001b[0m             \u001b[0mcoerce_numeric\u001b[0m \u001b[1;33m=\u001b[0m \u001b[0merrors\u001b[0m \u001b[1;32mnot\u001b[0m \u001b[1;32min\u001b[0m \u001b[1;33m(\u001b[0m\u001b[1;34m\"ignore\"\u001b[0m\u001b[1;33m,\u001b[0m \u001b[1;34m\"raise\"\u001b[0m\u001b[1;33m)\u001b[0m\u001b[1;33m\u001b[0m\u001b[1;33m\u001b[0m\u001b[0m\n\u001b[0;32m    150\u001b[0m             values = lib.maybe_convert_numeric(\n\u001b[1;32m--> 151\u001b[1;33m                 \u001b[0mvalues\u001b[0m\u001b[1;33m,\u001b[0m \u001b[0mset\u001b[0m\u001b[1;33m(\u001b[0m\u001b[1;33m)\u001b[0m\u001b[1;33m,\u001b[0m \u001b[0mcoerce_numeric\u001b[0m\u001b[1;33m=\u001b[0m\u001b[0mcoerce_numeric\u001b[0m\u001b[1;33m\u001b[0m\u001b[1;33m\u001b[0m\u001b[0m\n\u001b[0m\u001b[0;32m    152\u001b[0m             )\n\u001b[0;32m    153\u001b[0m \u001b[1;33m\u001b[0m\u001b[0m\n",
      "\u001b[1;32mpandas/_libs/lib.pyx\u001b[0m in \u001b[0;36mpandas._libs.lib.maybe_convert_numeric\u001b[1;34m()\u001b[0m\n",
      "\u001b[1;31mValueError\u001b[0m: Unable to parse string \"############\" at position 4247"
     ]
    }
   ],
   "source": [
    "df[\"total_capital\"] = pd.to_numeric(df[\"total_capital\"])"
   ]
  },
  {
   "cell_type": "markdown",
   "metadata": {
    "slideshow": {
     "slide_type": "fragment"
    }
   },
   "source": [
    "There are ## characters in the \"Total Capital\" column. Lets see what are those. Lets see the rows containing ## characters in the \"Total Capital\""
   ]
  },
  {
   "cell_type": "code",
   "execution_count": 39,
   "metadata": {
    "slideshow": {
     "slide_type": "subslide"
    }
   },
   "outputs": [
    {
     "data": {
      "text/html": [
       "<div>\n",
       "<style scoped>\n",
       "    .dataframe tbody tr th:only-of-type {\n",
       "        vertical-align: middle;\n",
       "    }\n",
       "\n",
       "    .dataframe tbody tr th {\n",
       "        vertical-align: top;\n",
       "    }\n",
       "\n",
       "    .dataframe thead th {\n",
       "        text-align: right;\n",
       "    }\n",
       "</style>\n",
       "<table border=\"1\" class=\"dataframe\">\n",
       "  <thead>\n",
       "    <tr style=\"text-align: right;\">\n",
       "      <th></th>\n",
       "      <th>sn</th>\n",
       "      <th>register_date</th>\n",
       "      <th>investor</th>\n",
       "      <th>name</th>\n",
       "      <th>address</th>\n",
       "      <th>district</th>\n",
       "      <th>total_capital</th>\n",
       "      <th>fixed_capital</th>\n",
       "      <th>working_capital</th>\n",
       "      <th>annual_capacity</th>\n",
       "      <th>employment</th>\n",
       "      <th>category</th>\n",
       "      <th>scale</th>\n",
       "      <th>power</th>\n",
       "      <th>investment</th>\n",
       "      <th>register_year</th>\n",
       "      <th>register_month</th>\n",
       "    </tr>\n",
       "  </thead>\n",
       "  <tbody>\n",
       "    <tr>\n",
       "      <th>4247</th>\n",
       "      <td>4248</td>\n",
       "      <td>61024</td>\n",
       "      <td>SEMC WEST SETI HOLDINGS</td>\n",
       "      <td>WEST SETI HYDRO PVT.LTD</td>\n",
       "      <td>डोट िज ला</td>\n",
       "      <td>DOTI</td>\n",
       "      <td>############</td>\n",
       "      <td>############</td>\n",
       "      <td>100000000</td>\n",
       "      <td>HYDROPOWER 750 MW</td>\n",
       "      <td>44</td>\n",
       "      <td>ENERGY BASED</td>\n",
       "      <td>LARGE</td>\n",
       "      <td>1500 KVA</td>\n",
       "      <td>Local - 100%, Foreign - 0%</td>\n",
       "      <td>2067.0</td>\n",
       "      <td>1.0</td>\n",
       "    </tr>\n",
       "    <tr>\n",
       "      <th>4457</th>\n",
       "      <td>4458</td>\n",
       "      <td>61333</td>\n",
       "      <td>MS SAGARMATHA HYDRO POWER</td>\n",
       "      <td>SINO HYDRO SAGARMATHA POWER CO.PVT.LTD</td>\n",
       "      <td>लमजङु िज ला</td>\n",
       "      <td>LAMJUNG</td>\n",
       "      <td>############</td>\n",
       "      <td>############</td>\n",
       "      <td>22800000</td>\n",
       "      <td>HYDROPOWER 50 MWH</td>\n",
       "      <td>70</td>\n",
       "      <td>ENERGY BASED</td>\n",
       "      <td>LARGE</td>\n",
       "      <td>300 KVA</td>\n",
       "      <td>Local - 100%, Foreign - 0%</td>\n",
       "      <td>2067.0</td>\n",
       "      <td>12.0</td>\n",
       "    </tr>\n",
       "    <tr>\n",
       "      <th>4546</th>\n",
       "      <td>4547</td>\n",
       "      <td>61444</td>\n",
       "      <td>M/S NEPAL BIDHYUT PRADHIKARAN</td>\n",
       "      <td>MATHILLO TAMAKOSHI HYDROPOWER LTD</td>\n",
       "      <td>दोलखा िज ला</td>\n",
       "      <td>DOLKHA</td>\n",
       "      <td>############</td>\n",
       "      <td>############</td>\n",
       "      <td>119000000</td>\n",
       "      <td>HYDROPOWER 456 MW</td>\n",
       "      <td>2335</td>\n",
       "      <td>ENERGY BASED</td>\n",
       "      <td>LARGE</td>\n",
       "      <td>0</td>\n",
       "      <td>Local - 100%</td>\n",
       "      <td>2068.0</td>\n",
       "      <td>3.0</td>\n",
       "    </tr>\n",
       "  </tbody>\n",
       "</table>\n",
       "</div>"
      ],
      "text/plain": [
       "        sn register_date                       investor  \\\n",
       "4247  4248         61024        SEMC WEST SETI HOLDINGS   \n",
       "4457  4458         61333      MS SAGARMATHA HYDRO POWER   \n",
       "4546  4547         61444  M/S NEPAL BIDHYUT PRADHIKARAN   \n",
       "\n",
       "                                        name      address district  \\\n",
       "4247                 WEST SETI HYDRO PVT.LTD    डोट िज ला     DOTI   \n",
       "4457  SINO HYDRO SAGARMATHA POWER CO.PVT.LTD  लमजङु िज ला  LAMJUNG   \n",
       "4546       MATHILLO TAMAKOSHI HYDROPOWER LTD  दोलखा िज ला   DOLKHA   \n",
       "\n",
       "     total_capital fixed_capital  working_capital    annual_capacity  \\\n",
       "4247  ############  ############        100000000  HYDROPOWER 750 MW   \n",
       "4457  ############  ############         22800000  HYDROPOWER 50 MWH   \n",
       "4546  ############  ############        119000000  HYDROPOWER 456 MW   \n",
       "\n",
       "      employment      category  scale     power                  investment  \\\n",
       "4247          44  ENERGY BASED  LARGE  1500 KVA  Local - 100%, Foreign - 0%   \n",
       "4457          70  ENERGY BASED  LARGE   300 KVA  Local - 100%, Foreign - 0%   \n",
       "4546        2335  ENERGY BASED  LARGE         0                Local - 100%   \n",
       "\n",
       "      register_year  register_month  \n",
       "4247         2067.0             1.0  \n",
       "4457         2067.0            12.0  \n",
       "4546         2068.0             3.0  "
      ]
     },
     "execution_count": 39,
     "metadata": {},
     "output_type": "execute_result"
    }
   ],
   "source": [
    "df[df[\"total_capital\"].str.contains(\"##\")].head(3)"
   ]
  },
  {
   "cell_type": "markdown",
   "metadata": {
    "slideshow": {
     "slide_type": "fragment"
    }
   },
   "source": [
    "These must have been issues when creating pdf from excel. For us, they are missing values. Either we could use 0 or employ other techniques to fill those missing values. For simplicity, lets fill those with 0."
   ]
  },
  {
   "cell_type": "code",
   "execution_count": 40,
   "metadata": {
    "slideshow": {
     "slide_type": "subslide"
    }
   },
   "outputs": [],
   "source": [
    "df.loc[df[\"total_capital\"].str.contains(\"#\"), \"total_capital\"] = 0"
   ]
  },
  {
   "cell_type": "markdown",
   "metadata": {
    "slideshow": {
     "slide_type": "fragment"
    }
   },
   "source": [
    "Now lets try converting to numeric type."
   ]
  },
  {
   "cell_type": "code",
   "execution_count": 41,
   "metadata": {
    "slideshow": {
     "slide_type": "fragment"
    }
   },
   "outputs": [],
   "source": [
    "df[\"total_capital\"] = pd.to_numeric(df[\"total_capital\"])"
   ]
  },
  {
   "cell_type": "markdown",
   "metadata": {
    "slideshow": {
     "slide_type": "fragment"
    }
   },
   "source": [
    "Lets calculate the sum of \"total capital\". We should get proper numeric value."
   ]
  },
  {
   "cell_type": "code",
   "execution_count": 42,
   "metadata": {
    "slideshow": {
     "slide_type": "fragment"
    }
   },
   "outputs": [
    {
     "data": {
      "text/plain": [
       "812573988508"
      ]
     },
     "execution_count": 42,
     "metadata": {},
     "output_type": "execute_result"
    }
   ],
   "source": [
    "df[\"total_capital\"].sum()"
   ]
  },
  {
   "cell_type": "code",
   "execution_count": 48,
   "metadata": {},
   "outputs": [
    {
     "data": {
      "text/plain": [
       "0         0\n",
       "1        21\n",
       "2        40\n",
       "3       165\n",
       "4       189\n",
       "       ... \n",
       "6514     24\n",
       "6515     41\n",
       "6516     34\n",
       "6517     53\n",
       "6518     89\n",
       "Name: employment, Length: 6519, dtype: int64"
      ]
     },
     "execution_count": 48,
     "metadata": {},
     "output_type": "execute_result"
    }
   ],
   "source": [
    "df[\"employment\"]"
   ]
  },
  {
   "cell_type": "markdown",
   "metadata": {
    "slideshow": {
     "slide_type": "slide"
    }
   },
   "source": [
    "## Check employment values"
   ]
  },
  {
   "cell_type": "markdown",
   "metadata": {
    "slideshow": {
     "slide_type": "fragment"
    }
   },
   "source": [
    "Lets see the type of \"employment\" column"
   ]
  },
  {
   "cell_type": "code",
   "execution_count": 49,
   "metadata": {
    "slideshow": {
     "slide_type": "fragment"
    }
   },
   "outputs": [
    {
     "data": {
      "text/plain": [
       "dtype('int64')"
      ]
     },
     "execution_count": 49,
     "metadata": {},
     "output_type": "execute_result"
    }
   ],
   "source": [
    "df[\"employment\"].dtypes"
   ]
  },
  {
   "cell_type": "markdown",
   "metadata": {
    "slideshow": {
     "slide_type": "fragment"
    }
   },
   "source": [
    "It's int64, which means it's numeric column."
   ]
  },
  {
   "cell_type": "code",
   "execution_count": 50,
   "metadata": {
    "slideshow": {
     "slide_type": "subslide"
    }
   },
   "outputs": [
    {
     "data": {
      "text/plain": [
       "0         0\n",
       "1        21\n",
       "2        40\n",
       "3       165\n",
       "4       189\n",
       "       ... \n",
       "6514     24\n",
       "6515     41\n",
       "6516     34\n",
       "6517     53\n",
       "6518     89\n",
       "Name: employment, Length: 6519, dtype: int64"
      ]
     },
     "execution_count": 50,
     "metadata": {},
     "output_type": "execute_result"
    }
   ],
   "source": [
    "df[\"employment\"]"
   ]
  },
  {
   "cell_type": "code",
   "execution_count": 51,
   "metadata": {
    "slideshow": {
     "slide_type": "fragment"
    }
   },
   "outputs": [
    {
     "data": {
      "text/plain": [
       "520972"
      ]
     },
     "execution_count": 51,
     "metadata": {},
     "output_type": "execute_result"
    }
   ],
   "source": [
    "df[\"employment\"].sum()"
   ]
  },
  {
   "cell_type": "markdown",
   "metadata": {
    "slideshow": {
     "slide_type": "slide"
    }
   },
   "source": [
    "## Check category"
   ]
  },
  {
   "cell_type": "markdown",
   "metadata": {
    "slideshow": {
     "slide_type": "fragment"
    }
   },
   "source": [
    "Category should be strings or object type. But we just need to make sure that there are no spelling mistakes."
   ]
  },
  {
   "cell_type": "code",
   "execution_count": 62,
   "metadata": {
    "slideshow": {
     "slide_type": "fragment"
    }
   },
   "outputs": [
    {
     "data": {
      "text/plain": [
       "MANUFACTURING              2640\n",
       "SERVICE                    1804\n",
       "TOURISM                    1300\n",
       "AGRO AND FORESTRY BASED     395\n",
       "ENERGY BASED                271\n",
       "MINERAL                      61\n",
       "CONSTRUCTION                 48\n",
       "Name: category, dtype: int64"
      ]
     },
     "execution_count": 62,
     "metadata": {},
     "output_type": "execute_result"
    }
   ],
   "source": [
    "df[\"category\"].value_counts()"
   ]
  },
  {
   "cell_type": "code",
   "execution_count": 63,
   "metadata": {
    "slideshow": {
     "slide_type": "subslide"
    }
   },
   "outputs": [
    {
     "data": {
      "text/plain": [
       "category\n",
       "AGRO AND FORESTRY BASED     395\n",
       "CONSTRUCTION                 48\n",
       "ENERGY BASED                271\n",
       "MANUFACTURING              2640\n",
       "MINERAL                      61\n",
       "SERVICE                    1804\n",
       "TOURISM                    1300\n",
       "Name: category, dtype: int64"
      ]
     },
     "execution_count": 63,
     "metadata": {},
     "output_type": "execute_result"
    }
   ],
   "source": [
    "grouped = df.groupby(\"category\")\n",
    "grouped[\"category\"].count()"
   ]
  },
  {
   "cell_type": "markdown",
   "metadata": {
    "slideshow": {
     "slide_type": "slide"
    }
   },
   "source": [
    "## Check scale"
   ]
  },
  {
   "cell_type": "markdown",
   "metadata": {
    "slideshow": {
     "slide_type": "fragment"
    }
   },
   "source": [
    "\"Scale\" is also of object type. Lets quickly check the summary of \"Scale\" values."
   ]
  },
  {
   "cell_type": "code",
   "execution_count": 64,
   "metadata": {
    "slideshow": {
     "slide_type": "fragment"
    }
   },
   "outputs": [
    {
     "data": {
      "text/plain": [
       "scale\n",
       "LARGE      854\n",
       "MEDIUM    1481\n",
       "SMALL     4184\n",
       "dtype: int64"
      ]
     },
     "execution_count": 64,
     "metadata": {},
     "output_type": "execute_result"
    }
   ],
   "source": [
    "df.groupby(\"scale\").size()"
   ]
  },
  {
   "cell_type": "markdown",
   "metadata": {
    "slideshow": {
     "slide_type": "slide"
    }
   },
   "source": [
    "## Split investment into local and foreign"
   ]
  },
  {
   "cell_type": "markdown",
   "metadata": {
    "slideshow": {
     "slide_type": "fragment"
    }
   },
   "source": [
    "\"Investment\" column contains the data in the following format\n",
    "* Local - 100%\n",
    "* Local - 64.11%, Foreign - 35.89%\n",
    "* Foreign - 100%\n",
    "\n",
    "We can't do anything with this column in its current form. But if we could separate local and foreign investment into 2 different columns, that could help us in various analysis. "
   ]
  },
  {
   "cell_type": "markdown",
   "metadata": {
    "slideshow": {
     "slide_type": "subslide"
    }
   },
   "source": [
    "**Question for discussion**\n",
    "\n",
    "* How would you approach this problem of splitting into 2 columns as shown above?"
   ]
  },
  {
   "cell_type": "code",
   "execution_count": 65,
   "metadata": {
    "slideshow": {
     "slide_type": "fragment"
    }
   },
   "outputs": [
    {
     "data": {
      "text/plain": [
       "0                           Local - 100%\n",
       "1                           Local - 100%\n",
       "2                           Local - 100%\n",
       "3                           Local - 100%\n",
       "4                           Local - 100%\n",
       "                      ...               \n",
       "6514    Local - 64.11%, Foreign - 35.89%\n",
       "6515                      Foreign - 100%\n",
       "6516                        Local - 100%\n",
       "6517                        Local - 100%\n",
       "6518                        Local - 100%\n",
       "Name: investment, Length: 6519, dtype: object"
      ]
     },
     "execution_count": 65,
     "metadata": {},
     "output_type": "execute_result"
    }
   ],
   "source": [
    "df.investment"
   ]
  },
  {
   "cell_type": "markdown",
   "metadata": {
    "slideshow": {
     "slide_type": "subslide"
    }
   },
   "source": [
    "### New column for local and foreign percentage"
   ]
  },
  {
   "cell_type": "markdown",
   "metadata": {
    "slideshow": {
     "slide_type": "fragment"
    }
   },
   "source": [
    "Lets use regex to extract Local percentage value and create new column."
   ]
  },
  {
   "cell_type": "code",
   "execution_count": 71,
   "metadata": {
    "slideshow": {
     "slide_type": "fragment"
    }
   },
   "outputs": [
    {
     "data": {
      "text/plain": [
       "0       100.00\n",
       "1       100.00\n",
       "2       100.00\n",
       "3       100.00\n",
       "4       100.00\n",
       "         ...  \n",
       "6514     64.11\n",
       "6515      0.00\n",
       "6516    100.00\n",
       "6517    100.00\n",
       "6518    100.00\n",
       "Name: local_percent, Length: 6519, dtype: float64"
      ]
     },
     "execution_count": 71,
     "metadata": {},
     "output_type": "execute_result"
    }
   ],
   "source": [
    "df[\"local_percent\"] = df.investment.str.extract(\"Local - ([0-9.]*).*\")\n",
    "df[\"local_percent\"].fillna(0,inplace=True)\n",
    "df.local_percent = pd.to_numeric(df.local_percent)\n",
    "df.local_percent"
   ]
  },
  {
   "cell_type": "code",
   "execution_count": 72,
   "metadata": {
    "slideshow": {
     "slide_type": "subslide"
    }
   },
   "outputs": [
    {
     "data": {
      "text/plain": [
       "0         0.00\n",
       "1         0.00\n",
       "2         0.00\n",
       "3         0.00\n",
       "4         0.00\n",
       "         ...  \n",
       "6514     35.89\n",
       "6515    100.00\n",
       "6516      0.00\n",
       "6517      0.00\n",
       "6518      0.00\n",
       "Name: foreign_percent, Length: 6519, dtype: float64"
      ]
     },
     "execution_count": 72,
     "metadata": {},
     "output_type": "execute_result"
    }
   ],
   "source": [
    "df[\"foreign_percent\"] = df.investment.str.extract(\".*Foreign - ([0-9.]*).*\")\n",
    "df[\"foreign_percent\"].fillna(0, inplace=True)\n",
    "df.foreign_percent = pd.to_numeric(df.foreign_percent)\n",
    "df.foreign_percent"
   ]
  },
  {
   "cell_type": "markdown",
   "metadata": {
    "slideshow": {
     "slide_type": "slide"
    }
   },
   "source": [
    "## Final data types of cleaned data"
   ]
  },
  {
   "cell_type": "code",
   "execution_count": 73,
   "metadata": {
    "slideshow": {
     "slide_type": "fragment"
    }
   },
   "outputs": [
    {
     "data": {
      "text/plain": [
       "sn                   int64\n",
       "register_date       object\n",
       "investor            object\n",
       "name                object\n",
       "address             object\n",
       "district            object\n",
       "total_capital        int64\n",
       "fixed_capital       object\n",
       "working_capital      int64\n",
       "annual_capacity     object\n",
       "employment           int64\n",
       "category            object\n",
       "scale               object\n",
       "power               object\n",
       "investment          object\n",
       "register_year      float64\n",
       "register_month     float64\n",
       "local_percent      float64\n",
       "foreign_percent    float64\n",
       "dtype: object"
      ]
     },
     "execution_count": 73,
     "metadata": {},
     "output_type": "execute_result"
    }
   ],
   "source": [
    "df.dtypes"
   ]
  },
  {
   "cell_type": "code",
   "execution_count": 75,
   "metadata": {},
   "outputs": [
    {
     "data": {
      "text/html": [
       "<div>\n",
       "<style scoped>\n",
       "    .dataframe tbody tr th:only-of-type {\n",
       "        vertical-align: middle;\n",
       "    }\n",
       "\n",
       "    .dataframe tbody tr th {\n",
       "        vertical-align: top;\n",
       "    }\n",
       "\n",
       "    .dataframe thead th {\n",
       "        text-align: right;\n",
       "    }\n",
       "</style>\n",
       "<table border=\"1\" class=\"dataframe\">\n",
       "  <thead>\n",
       "    <tr style=\"text-align: right;\">\n",
       "      <th></th>\n",
       "      <th>investment</th>\n",
       "      <th>local_percent</th>\n",
       "      <th>foreign_percent</th>\n",
       "    </tr>\n",
       "  </thead>\n",
       "  <tbody>\n",
       "    <tr>\n",
       "      <th>0</th>\n",
       "      <td>Local - 100%</td>\n",
       "      <td>100.00</td>\n",
       "      <td>0.00</td>\n",
       "    </tr>\n",
       "    <tr>\n",
       "      <th>1</th>\n",
       "      <td>Local - 100%</td>\n",
       "      <td>100.00</td>\n",
       "      <td>0.00</td>\n",
       "    </tr>\n",
       "    <tr>\n",
       "      <th>2</th>\n",
       "      <td>Local - 100%</td>\n",
       "      <td>100.00</td>\n",
       "      <td>0.00</td>\n",
       "    </tr>\n",
       "    <tr>\n",
       "      <th>3</th>\n",
       "      <td>Local - 100%</td>\n",
       "      <td>100.00</td>\n",
       "      <td>0.00</td>\n",
       "    </tr>\n",
       "    <tr>\n",
       "      <th>4</th>\n",
       "      <td>Local - 100%</td>\n",
       "      <td>100.00</td>\n",
       "      <td>0.00</td>\n",
       "    </tr>\n",
       "    <tr>\n",
       "      <th>...</th>\n",
       "      <td>...</td>\n",
       "      <td>...</td>\n",
       "      <td>...</td>\n",
       "    </tr>\n",
       "    <tr>\n",
       "      <th>6514</th>\n",
       "      <td>Local - 64.11%, Foreign - 35.89%</td>\n",
       "      <td>64.11</td>\n",
       "      <td>35.89</td>\n",
       "    </tr>\n",
       "    <tr>\n",
       "      <th>6515</th>\n",
       "      <td>Foreign - 100%</td>\n",
       "      <td>0.00</td>\n",
       "      <td>100.00</td>\n",
       "    </tr>\n",
       "    <tr>\n",
       "      <th>6516</th>\n",
       "      <td>Local - 100%</td>\n",
       "      <td>100.00</td>\n",
       "      <td>0.00</td>\n",
       "    </tr>\n",
       "    <tr>\n",
       "      <th>6517</th>\n",
       "      <td>Local - 100%</td>\n",
       "      <td>100.00</td>\n",
       "      <td>0.00</td>\n",
       "    </tr>\n",
       "    <tr>\n",
       "      <th>6518</th>\n",
       "      <td>Local - 100%</td>\n",
       "      <td>100.00</td>\n",
       "      <td>0.00</td>\n",
       "    </tr>\n",
       "  </tbody>\n",
       "</table>\n",
       "<p>6519 rows × 3 columns</p>\n",
       "</div>"
      ],
      "text/plain": [
       "                            investment  local_percent  foreign_percent\n",
       "0                         Local - 100%         100.00             0.00\n",
       "1                         Local - 100%         100.00             0.00\n",
       "2                         Local - 100%         100.00             0.00\n",
       "3                         Local - 100%         100.00             0.00\n",
       "4                         Local - 100%         100.00             0.00\n",
       "...                                ...            ...              ...\n",
       "6514  Local - 64.11%, Foreign - 35.89%          64.11            35.89\n",
       "6515                    Foreign - 100%           0.00           100.00\n",
       "6516                      Local - 100%         100.00             0.00\n",
       "6517                      Local - 100%         100.00             0.00\n",
       "6518                      Local - 100%         100.00             0.00\n",
       "\n",
       "[6519 rows x 3 columns]"
      ]
     },
     "execution_count": 75,
     "metadata": {},
     "output_type": "execute_result"
    }
   ],
   "source": [
    "df[[\"investment\",\"local_percent\",\"foreign_percent\"]]"
   ]
  },
  {
   "cell_type": "markdown",
   "metadata": {
    "slideshow": {
     "slide_type": "slide"
    }
   },
   "source": [
    "## Write to CSV\n",
    "\n",
    "Lets write clean dataframe to file for exploration later."
   ]
  },
  {
   "cell_type": "code",
   "execution_count": 76,
   "metadata": {
    "slideshow": {
     "slide_type": "fragment"
    }
   },
   "outputs": [],
   "source": [
    "df.to_csv(\"clean.csv\", index = False)"
   ]
  },
  {
   "cell_type": "markdown",
   "metadata": {
    "slideshow": {
     "slide_type": "slide"
    }
   },
   "source": [
    "Now we will explore the data for sights."
   ]
  }
 ],
 "metadata": {
  "kernelspec": {
   "display_name": "Python 3",
   "language": "python",
   "name": "python3"
  },
  "language_info": {
   "codemirror_mode": {
    "name": "ipython",
    "version": 3
   },
   "file_extension": ".py",
   "mimetype": "text/x-python",
   "name": "python",
   "nbconvert_exporter": "python",
   "pygments_lexer": "ipython3",
   "version": "3.7.4"
  }
 },
 "nbformat": 4,
 "nbformat_minor": 4
}
