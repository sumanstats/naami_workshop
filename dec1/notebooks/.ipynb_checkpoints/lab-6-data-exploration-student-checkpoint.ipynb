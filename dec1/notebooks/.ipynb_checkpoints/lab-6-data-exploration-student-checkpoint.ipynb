{
 "cells": [
  {
   "cell_type": "markdown",
   "metadata": {
    "colab_type": "text",
    "id": "fumatUVyW6SV",
    "slideshow": {
     "slide_type": "slide"
    }
   },
   "source": [
    "# Data Exploration"
   ]
  },
  {
   "cell_type": "markdown",
   "metadata": {
    "colab_type": "text",
    "id": "htLUVuWsW6SZ",
    "slideshow": {
     "slide_type": "slide"
    }
   },
   "source": [
    "## Reading clean data"
   ]
  },
  {
   "cell_type": "code",
   "execution_count": 1,
   "metadata": {
    "colab": {},
    "colab_type": "code",
    "id": "keW7e46MW6Sb",
    "outputId": "a4f24e40-d621-4fee-effc-3386c2f2b793",
    "slideshow": {
     "slide_type": "fragment"
    }
   },
   "outputs": [
    {
     "data": {
      "text/html": [
       "<div>\n",
       "<style scoped>\n",
       "    .dataframe tbody tr th:only-of-type {\n",
       "        vertical-align: middle;\n",
       "    }\n",
       "\n",
       "    .dataframe tbody tr th {\n",
       "        vertical-align: top;\n",
       "    }\n",
       "\n",
       "    .dataframe thead th {\n",
       "        text-align: right;\n",
       "    }\n",
       "</style>\n",
       "<table border=\"1\" class=\"dataframe\">\n",
       "  <thead>\n",
       "    <tr style=\"text-align: right;\">\n",
       "      <th></th>\n",
       "      <th>sn</th>\n",
       "      <th>register_date</th>\n",
       "      <th>investor</th>\n",
       "      <th>name</th>\n",
       "      <th>district</th>\n",
       "      <th>total_capital</th>\n",
       "      <th>fixed_capital</th>\n",
       "      <th>working_capital</th>\n",
       "      <th>annual_capacity</th>\n",
       "      <th>employment</th>\n",
       "      <th>category</th>\n",
       "      <th>scale</th>\n",
       "      <th>power</th>\n",
       "      <th>investment</th>\n",
       "      <th>register_year</th>\n",
       "      <th>local_percent</th>\n",
       "      <th>foreign_percent</th>\n",
       "    </tr>\n",
       "  </thead>\n",
       "  <tbody>\n",
       "    <tr>\n",
       "      <th>0</th>\n",
       "      <td>1</td>\n",
       "      <td>43327</td>\n",
       "      <td>NaN</td>\n",
       "      <td>HIMAL IRON &amp; STEEL PVT.LTD</td>\n",
       "      <td>PARSA</td>\n",
       "      <td>364369000</td>\n",
       "      <td>345360000</td>\n",
       "      <td>19009000</td>\n",
       "      <td>IRON ROD 75000 MT</td>\n",
       "      <td>0</td>\n",
       "      <td>MANUFACTURING</td>\n",
       "      <td>LARGE</td>\n",
       "      <td>3975 KW</td>\n",
       "      <td>Local - 100%</td>\n",
       "      <td>2018</td>\n",
       "      <td>100.0</td>\n",
       "      <td>0.0</td>\n",
       "    </tr>\n",
       "    <tr>\n",
       "      <th>1</th>\n",
       "      <td>2</td>\n",
       "      <td>44620</td>\n",
       "      <td>CHANDRA MAN GURUNG</td>\n",
       "      <td>KALPANA CINEMA HALL</td>\n",
       "      <td>KASKI</td>\n",
       "      <td>40000000</td>\n",
       "      <td>34600000</td>\n",
       "      <td>5400000</td>\n",
       "      <td>ENTTERTAINMENT, FILM SHOWS 805 SEATS</td>\n",
       "      <td>21</td>\n",
       "      <td>SERVICE</td>\n",
       "      <td>MEDIUM</td>\n",
       "      <td>0</td>\n",
       "      <td>Local - 100%</td>\n",
       "      <td>2022</td>\n",
       "      <td>100.0</td>\n",
       "      <td>0.0</td>\n",
       "    </tr>\n",
       "    <tr>\n",
       "      <th>2</th>\n",
       "      <td>3</td>\n",
       "      <td>44640</td>\n",
       "      <td>RAM SHANKER SHRESHTA</td>\n",
       "      <td>SHANKATA HOTEL</td>\n",
       "      <td>KATHMANDU</td>\n",
       "      <td>0</td>\n",
       "      <td>0</td>\n",
       "      <td>0</td>\n",
       "      <td>HOTEL, 135 ROOMS</td>\n",
       "      <td>40</td>\n",
       "      <td>TOURISM</td>\n",
       "      <td>SMALL</td>\n",
       "      <td>10</td>\n",
       "      <td>Local - 100%</td>\n",
       "      <td>2022</td>\n",
       "      <td>100.0</td>\n",
       "      <td>0.0</td>\n",
       "    </tr>\n",
       "  </tbody>\n",
       "</table>\n",
       "</div>"
      ],
      "text/plain": [
       "   sn register_date              investor                        name  \\\n",
       "0   1         43327                   NaN  HIMAL IRON & STEEL PVT.LTD   \n",
       "1   2         44620    CHANDRA MAN GURUNG         KALPANA CINEMA HALL   \n",
       "2   3         44640  RAM SHANKER SHRESHTA              SHANKATA HOTEL   \n",
       "\n",
       "    district  total_capital fixed_capital  working_capital  \\\n",
       "0      PARSA      364369000     345360000         19009000   \n",
       "1      KASKI       40000000      34600000          5400000   \n",
       "2  KATHMANDU              0             0                0   \n",
       "\n",
       "                        annual_capacity  employment       category   scale  \\\n",
       "0                     IRON ROD 75000 MT           0  MANUFACTURING   LARGE   \n",
       "1  ENTTERTAINMENT, FILM SHOWS 805 SEATS          21        SERVICE  MEDIUM   \n",
       "2                      HOTEL, 135 ROOMS          40        TOURISM   SMALL   \n",
       "\n",
       "     power    investment  register_year  local_percent  foreign_percent  \n",
       "0  3975 KW  Local - 100%           2018          100.0              0.0  \n",
       "1        0  Local - 100%           2022          100.0              0.0  \n",
       "2       10  Local - 100%           2022          100.0              0.0  "
      ]
     },
     "execution_count": 1,
     "metadata": {},
     "output_type": "execute_result"
    }
   ],
   "source": [
    "import pandas as pd\n",
    "df = pd.read_excel(\"../data/clean.xlsx\")\n",
    "df.head(3)"
   ]
  },
  {
   "cell_type": "markdown",
   "metadata": {
    "colab_type": "text",
    "id": "SN2FbU7QW6Sl",
    "slideshow": {
     "slide_type": "slide"
    }
   },
   "source": [
    "## Year wise industries count"
   ]
  },
  {
   "cell_type": "markdown",
   "metadata": {
    "colab_type": "text",
    "id": "R_NPcQWiW6Sm",
    "slideshow": {
     "slide_type": "fragment"
    }
   },
   "source": [
    "**Question for Discussion:**\n",
    "\n",
    "* How do you count the number of industries per year? \n",
    "* How should we plot that?\n",
    "* What does that tell us?"
   ]
  },
  {
   "cell_type": "markdown",
   "metadata": {
    "colab_type": "text",
    "id": "Rjg_DE9kW6Sn",
    "slideshow": {
     "slide_type": "subslide"
    }
   },
   "source": [
    "### Count industries using groupby"
   ]
  },
  {
   "cell_type": "markdown",
   "metadata": {
    "colab_type": "text",
    "id": "cXV2NUbIW6So",
    "slideshow": {
     "slide_type": "fragment"
    }
   },
   "source": [
    "Lets see the count for each year."
   ]
  },
  {
   "cell_type": "code",
   "execution_count": 2,
   "metadata": {
    "colab": {},
    "colab_type": "code",
    "id": "2ItDqHgRW6Sp",
    "outputId": "67b64a23-0300-424a-f0e3-47a77664b399",
    "slideshow": {
     "slide_type": "fragment"
    }
   },
   "outputs": [
    {
     "data": {
      "text/plain": [
       "register_year\n",
       "2018      1\n",
       "2022      2\n",
       "2030      4\n",
       "2032      1\n",
       "2033      2\n",
       "2034      2\n",
       "2035      2\n",
       "2037      2\n",
       "2038      1\n",
       "2039      5\n",
       "2040      1\n",
       "2041      2\n",
       "2042      3\n",
       "2043      5\n",
       "2044      4\n",
       "2045      6\n",
       "2046      4\n",
       "2047     96\n",
       "2048    177\n",
       "2049    878\n",
       "2050    127\n",
       "2051    193\n",
       "2052    335\n",
       "2053    290\n",
       "2054    147\n",
       "2055     95\n",
       "2056    146\n",
       "2057    162\n",
       "2058    144\n",
       "2059    104\n",
       "2060    149\n",
       "2061    108\n",
       "2062    121\n",
       "2063    140\n",
       "2064    224\n",
       "2065    276\n",
       "2066    275\n",
       "2067    241\n",
       "2068    260\n",
       "2069    393\n",
       "2070    374\n",
       "2071    471\n",
       "2072    390\n",
       "2073    156\n",
       "dtype: int64"
      ]
     },
     "execution_count": 2,
     "metadata": {},
     "output_type": "execute_result"
    }
   ],
   "source": [
    "df.groupby(\"register_year\").size()"
   ]
  },
  {
   "cell_type": "code",
   "execution_count": 3,
   "metadata": {},
   "outputs": [],
   "source": [
    "%matplotlib inline"
   ]
  },
  {
   "cell_type": "markdown",
   "metadata": {
    "colab_type": "text",
    "id": "RvQ32Mu5W6Sr",
    "slideshow": {
     "slide_type": "slide"
    }
   },
   "source": [
    "### Bar graph using plot function"
   ]
  },
  {
   "cell_type": "markdown",
   "metadata": {
    "colab_type": "text",
    "id": "MXiqLGNdW6Ss"
   },
   "source": [
    "Lets prepare a bar graph with default parameters."
   ]
  },
  {
   "cell_type": "code",
   "execution_count": 4,
   "metadata": {
    "colab": {},
    "colab_type": "code",
    "id": "ske-qQfyW6St",
    "outputId": "a2a4ea91-78f9-4460-ca78-a3e978c22217",
    "slideshow": {
     "slide_type": "fragment"
    }
   },
   "outputs": [
    {
     "data": {
      "text/plain": [
       "<matplotlib.axes._subplots.AxesSubplot at 0x243f8dfad88>"
      ]
     },
     "execution_count": 4,
     "metadata": {},
     "output_type": "execute_result"
    },
    {
     "data": {
      "image/png": "[encoded data removed]",
      "text/plain": [
       "<Figure size 432x288 with 1 Axes>"
      ]
     },
     "metadata": {
      "needs_background": "light"
     },
     "output_type": "display_data"
    }
   ],
   "source": [
    "df.groupby(\"register_year\").size().plot(kind=\"bar\")"
   ]
  },
  {
   "cell_type": "code",
   "execution_count": 5,
   "metadata": {},
   "outputs": [
    {
     "data": {
      "text/plain": [
       "<matplotlib.axes._subplots.AxesSubplot at 0x243f9170608>"
      ]
     },
     "execution_count": 5,
     "metadata": {},
     "output_type": "execute_result"
    },
    {
     "data": {
      "image/png": "[encoded data removed]",
      "text/plain": [
       "<Figure size 432x288 with 1 Axes>"
      ]
     },
     "metadata": {
      "needs_background": "light"
     },
     "output_type": "display_data"
    }
   ],
   "source": [
    "df[\"register_year\"].value_counts().plot(kind=\"bar\")"
   ]
  },
  {
   "cell_type": "markdown",
   "metadata": {
    "colab_type": "text",
    "id": "h2Ks5_XfW6Sv",
    "slideshow": {
     "slide_type": "subslide"
    }
   },
   "source": [
    "### Improved bar graph with increased figsize"
   ]
  },
  {
   "cell_type": "markdown",
   "metadata": {
    "colab_type": "text",
    "id": "8W5hsrAoW6Sw",
    "slideshow": {
     "slide_type": "fragment"
    }
   },
   "source": [
    "The image is hard to read. Lets increase the size of the image."
   ]
  },
  {
   "cell_type": "code",
   "execution_count": 6,
   "metadata": {
    "colab": {},
    "colab_type": "code",
    "id": "kFfhQlRSW6Sx",
    "outputId": "823ad0dc-f2a6-4554-8663-3f73451ac6be",
    "slideshow": {
     "slide_type": "fragment"
    }
   },
   "outputs": [
    {
     "data": {
      "text/plain": [
       "<matplotlib.axes._subplots.AxesSubplot at 0x243f84d6e48>"
      ]
     },
     "execution_count": 6,
     "metadata": {},
     "output_type": "execute_result"
    },
    {
     "data": {
      "image/png": "[encoded data removed]",
      "text/plain": [
       "<Figure size 864x432 with 1 Axes>"
      ]
     },
     "metadata": {
      "needs_background": "light"
     },
     "output_type": "display_data"
    }
   ],
   "source": [
    "df.groupby(\"register_year\").size().plot(kind=\"bar\", figsize=(12,6))"
   ]
  },
  {
   "cell_type": "code",
   "execution_count": 7,
   "metadata": {},
   "outputs": [
    {
     "data": {
      "text/html": [
       "<div>\n",
       "<style scoped>\n",
       "    .dataframe tbody tr th:only-of-type {\n",
       "        vertical-align: middle;\n",
       "    }\n",
       "\n",
       "    .dataframe tbody tr th {\n",
       "        vertical-align: top;\n",
       "    }\n",
       "\n",
       "    .dataframe thead th {\n",
       "        text-align: right;\n",
       "    }\n",
       "</style>\n",
       "<table border=\"1\" class=\"dataframe\">\n",
       "  <thead>\n",
       "    <tr style=\"text-align: right;\">\n",
       "      <th></th>\n",
       "      <th>sn</th>\n",
       "      <th>register_date</th>\n",
       "      <th>investor</th>\n",
       "      <th>name</th>\n",
       "      <th>district</th>\n",
       "      <th>total_capital</th>\n",
       "      <th>fixed_capital</th>\n",
       "      <th>working_capital</th>\n",
       "      <th>annual_capacity</th>\n",
       "      <th>employment</th>\n",
       "      <th>category</th>\n",
       "      <th>scale</th>\n",
       "      <th>power</th>\n",
       "      <th>investment</th>\n",
       "      <th>register_year</th>\n",
       "      <th>local_percent</th>\n",
       "      <th>foreign_percent</th>\n",
       "    </tr>\n",
       "  </thead>\n",
       "  <tbody>\n",
       "    <tr>\n",
       "      <th>0</th>\n",
       "      <td>1</td>\n",
       "      <td>43327</td>\n",
       "      <td>NaN</td>\n",
       "      <td>HIMAL IRON &amp; STEEL PVT.LTD</td>\n",
       "      <td>PARSA</td>\n",
       "      <td>364369000</td>\n",
       "      <td>345360000</td>\n",
       "      <td>19009000</td>\n",
       "      <td>IRON ROD 75000 MT</td>\n",
       "      <td>0</td>\n",
       "      <td>MANUFACTURING</td>\n",
       "      <td>LARGE</td>\n",
       "      <td>3975 KW</td>\n",
       "      <td>Local - 100%</td>\n",
       "      <td>2018</td>\n",
       "      <td>100.00</td>\n",
       "      <td>0.00</td>\n",
       "    </tr>\n",
       "    <tr>\n",
       "      <th>1</th>\n",
       "      <td>2</td>\n",
       "      <td>44620</td>\n",
       "      <td>CHANDRA MAN GURUNG</td>\n",
       "      <td>KALPANA CINEMA HALL</td>\n",
       "      <td>KASKI</td>\n",
       "      <td>40000000</td>\n",
       "      <td>34600000</td>\n",
       "      <td>5400000</td>\n",
       "      <td>ENTTERTAINMENT, FILM SHOWS 805 SEATS</td>\n",
       "      <td>21</td>\n",
       "      <td>SERVICE</td>\n",
       "      <td>MEDIUM</td>\n",
       "      <td>0</td>\n",
       "      <td>Local - 100%</td>\n",
       "      <td>2022</td>\n",
       "      <td>100.00</td>\n",
       "      <td>0.00</td>\n",
       "    </tr>\n",
       "    <tr>\n",
       "      <th>2</th>\n",
       "      <td>3</td>\n",
       "      <td>44640</td>\n",
       "      <td>RAM SHANKER SHRESHTA</td>\n",
       "      <td>SHANKATA HOTEL</td>\n",
       "      <td>KATHMANDU</td>\n",
       "      <td>0</td>\n",
       "      <td>0</td>\n",
       "      <td>0</td>\n",
       "      <td>HOTEL, 135 ROOMS</td>\n",
       "      <td>40</td>\n",
       "      <td>TOURISM</td>\n",
       "      <td>SMALL</td>\n",
       "      <td>10</td>\n",
       "      <td>Local - 100%</td>\n",
       "      <td>2022</td>\n",
       "      <td>100.00</td>\n",
       "      <td>0.00</td>\n",
       "    </tr>\n",
       "    <tr>\n",
       "      <th>3</th>\n",
       "      <td>4</td>\n",
       "      <td>47553</td>\n",
       "      <td>NaN</td>\n",
       "      <td>PASHUPATI BISCUITS INDUSTRIES PVT. LTD.</td>\n",
       "      <td>SUNSARI</td>\n",
       "      <td>200000000</td>\n",
       "      <td>148000000</td>\n",
       "      <td>52000000</td>\n",
       "      <td>BISCUIT 2700 M.T., CHOCOLATE CANDY 600 M.T., B...</td>\n",
       "      <td>165</td>\n",
       "      <td>MANUFACTURING</td>\n",
       "      <td>SMALL</td>\n",
       "      <td>1000 KVA</td>\n",
       "      <td>Local - 100%</td>\n",
       "      <td>2030</td>\n",
       "      <td>100.00</td>\n",
       "      <td>0.00</td>\n",
       "    </tr>\n",
       "    <tr>\n",
       "      <th>4</th>\n",
       "      <td>5</td>\n",
       "      <td>47671</td>\n",
       "      <td>NaN</td>\n",
       "      <td>NARAYANI HOTEL PVT. LTD.</td>\n",
       "      <td>LALITPUR</td>\n",
       "      <td>74749000</td>\n",
       "      <td>70000000</td>\n",
       "      <td>4749000</td>\n",
       "      <td>HOTEL SERVICE 113 ROOMS</td>\n",
       "      <td>189</td>\n",
       "      <td>TOURISM</td>\n",
       "      <td>MEDIUM</td>\n",
       "      <td>40 KW</td>\n",
       "      <td>Local - 100%</td>\n",
       "      <td>2030</td>\n",
       "      <td>100.00</td>\n",
       "      <td>0.00</td>\n",
       "    </tr>\n",
       "    <tr>\n",
       "      <th>...</th>\n",
       "      <td>...</td>\n",
       "      <td>...</td>\n",
       "      <td>...</td>\n",
       "      <td>...</td>\n",
       "      <td>...</td>\n",
       "      <td>...</td>\n",
       "      <td>...</td>\n",
       "      <td>...</td>\n",
       "      <td>...</td>\n",
       "      <td>...</td>\n",
       "      <td>...</td>\n",
       "      <td>...</td>\n",
       "      <td>...</td>\n",
       "      <td>...</td>\n",
       "      <td>...</td>\n",
       "      <td>...</td>\n",
       "      <td>...</td>\n",
       "    </tr>\n",
       "    <tr>\n",
       "      <th>6514</th>\n",
       "      <td>6515</td>\n",
       "      <td>63277</td>\n",
       "      <td>��� �_� �_� ��� �_� , ��� �_� ��� �_� �__��� �...</td>\n",
       "      <td>ALPINE COFFEE ESTATE PVT. LTD.</td>\n",
       "      <td>KATHMANDU</td>\n",
       "      <td>30000000</td>\n",
       "      <td>28000000</td>\n",
       "      <td>2000000</td>\n",
       "      <td>PROCESSED COFFEE 10000 KG</td>\n",
       "      <td>24</td>\n",
       "      <td>MANUFACTURING</td>\n",
       "      <td>SMALL</td>\n",
       "      <td>25 KVA</td>\n",
       "      <td>Local - 64.11%, Foreign - 35.89%</td>\n",
       "      <td>2073</td>\n",
       "      <td>64.11</td>\n",
       "      <td>35.89</td>\n",
       "    </tr>\n",
       "    <tr>\n",
       "      <th>6515</th>\n",
       "      <td>6516</td>\n",
       "      <td>63278</td>\n",
       "      <td>MR. HUOWEN SHU (CHINA (MAINLAND)), MS. NING LI...</td>\n",
       "      <td>TIAN SHU HOTEL PVT.LTD.</td>\n",
       "      <td>KATHMANDU</td>\n",
       "      <td>25000000</td>\n",
       "      <td>22300000</td>\n",
       "      <td>2700000</td>\n",
       "      <td>HOTEL 40 BEDS, RESTAURANT 70 SEATS</td>\n",
       "      <td>41</td>\n",
       "      <td>TOURISM</td>\n",
       "      <td>SMALL</td>\n",
       "      <td>75 KVA</td>\n",
       "      <td>Foreign - 100%</td>\n",
       "      <td>2073</td>\n",
       "      <td>0.00</td>\n",
       "      <td>100.00</td>\n",
       "    </tr>\n",
       "    <tr>\n",
       "      <th>6516</th>\n",
       "      <td>6517</td>\n",
       "      <td>63278</td>\n",
       "      <td>��� �__�__�__ �_��_��_��__�_� �_��_�����__</td>\n",
       "      <td>AMARSIDDHI FEED INDUSTRIES PVT.LTD.</td>\n",
       "      <td>KATHMANDU</td>\n",
       "      <td>48000000</td>\n",
       "      <td>35800000</td>\n",
       "      <td>12200000</td>\n",
       "      <td>MASH FEED 5900 MT, PELLET FEED 3000 MT</td>\n",
       "      <td>34</td>\n",
       "      <td>MANUFACTURING</td>\n",
       "      <td>MEDIUM</td>\n",
       "      <td>500 KVA</td>\n",
       "      <td>Local - 100%</td>\n",
       "      <td>2073</td>\n",
       "      <td>100.00</td>\n",
       "      <td>0.00</td>\n",
       "    </tr>\n",
       "    <tr>\n",
       "      <th>6517</th>\n",
       "      <td>6518</td>\n",
       "      <td>63278</td>\n",
       "      <td>��� �_� �_��_��__�_� �_�����_��__��� �_��_�����__</td>\n",
       "      <td>AGROMIX INDUSTRIES PVT.LTD.</td>\n",
       "      <td>CHITWAN</td>\n",
       "      <td>210800000</td>\n",
       "      <td>168300000</td>\n",
       "      <td>42500000</td>\n",
       "      <td>POULTRY &amp; CATTLE FEED (PELLET) 24000 MT</td>\n",
       "      <td>53</td>\n",
       "      <td>MANUFACTURING</td>\n",
       "      <td>LARGE</td>\n",
       "      <td>1000 KVA</td>\n",
       "      <td>Local - 100%</td>\n",
       "      <td>2073</td>\n",
       "      <td>100.00</td>\n",
       "      <td>0.00</td>\n",
       "    </tr>\n",
       "    <tr>\n",
       "      <th>6518</th>\n",
       "      <td>6519</td>\n",
       "      <td>63279</td>\n",
       "      <td>��� �_��__����_� �_� ��� �_� �__ �_� �_� �_���...</td>\n",
       "      <td>ASIAN THAI FOODS PVT. LTD. BRANCH UNIT 1</td>\n",
       "      <td>NAWALPARASI</td>\n",
       "      <td>240000000</td>\n",
       "      <td>177000000</td>\n",
       "      <td>63000000</td>\n",
       "      <td>NOODLES 10000 M.T., CHEESE BALLS 500 M.T., VAR...</td>\n",
       "      <td>89</td>\n",
       "      <td>MANUFACTURING</td>\n",
       "      <td>LARGE</td>\n",
       "      <td>1800 KVA</td>\n",
       "      <td>Local - 100%</td>\n",
       "      <td>2073</td>\n",
       "      <td>100.00</td>\n",
       "      <td>0.00</td>\n",
       "    </tr>\n",
       "  </tbody>\n",
       "</table>\n",
       "<p>6519 rows × 17 columns</p>\n",
       "</div>"
      ],
      "text/plain": [
       "        sn register_date                                           investor  \\\n",
       "0        1         43327                                                NaN   \n",
       "1        2         44620                                 CHANDRA MAN GURUNG   \n",
       "2        3         44640                               RAM SHANKER SHRESHTA   \n",
       "3        4         47553                                                NaN   \n",
       "4        5         47671                                                NaN   \n",
       "...    ...           ...                                                ...   \n",
       "6514  6515         63277  ��� �_� �_� ��� �_� , ��� �_� ��� �_� �__��� �...   \n",
       "6515  6516         63278  MR. HUOWEN SHU (CHINA (MAINLAND)), MS. NING LI...   \n",
       "6516  6517         63278         ��� �__�__�__ �_��_��_��__�_� �_��_�����__   \n",
       "6517  6518         63278  ��� �_� �_��_��__�_� �_�����_��__��� �_��_�����__   \n",
       "6518  6519         63279  ��� �_��__����_� �_� ��� �_� �__ �_� �_� �_���...   \n",
       "\n",
       "                                          name     district  total_capital  \\\n",
       "0                   HIMAL IRON & STEEL PVT.LTD        PARSA      364369000   \n",
       "1                          KALPANA CINEMA HALL        KASKI       40000000   \n",
       "2                               SHANKATA HOTEL    KATHMANDU              0   \n",
       "3      PASHUPATI BISCUITS INDUSTRIES PVT. LTD.      SUNSARI      200000000   \n",
       "4                     NARAYANI HOTEL PVT. LTD.     LALITPUR       74749000   \n",
       "...                                        ...          ...            ...   \n",
       "6514            ALPINE COFFEE ESTATE PVT. LTD.    KATHMANDU       30000000   \n",
       "6515                   TIAN SHU HOTEL PVT.LTD.    KATHMANDU       25000000   \n",
       "6516       AMARSIDDHI FEED INDUSTRIES PVT.LTD.    KATHMANDU       48000000   \n",
       "6517               AGROMIX INDUSTRIES PVT.LTD.      CHITWAN      210800000   \n",
       "6518  ASIAN THAI FOODS PVT. LTD. BRANCH UNIT 1  NAWALPARASI      240000000   \n",
       "\n",
       "     fixed_capital  working_capital  \\\n",
       "0        345360000         19009000   \n",
       "1         34600000          5400000   \n",
       "2                0                0   \n",
       "3        148000000         52000000   \n",
       "4         70000000          4749000   \n",
       "...            ...              ...   \n",
       "6514      28000000          2000000   \n",
       "6515      22300000          2700000   \n",
       "6516      35800000         12200000   \n",
       "6517     168300000         42500000   \n",
       "6518     177000000         63000000   \n",
       "\n",
       "                                        annual_capacity  employment  \\\n",
       "0                                     IRON ROD 75000 MT           0   \n",
       "1                  ENTTERTAINMENT, FILM SHOWS 805 SEATS          21   \n",
       "2                                      HOTEL, 135 ROOMS          40   \n",
       "3     BISCUIT 2700 M.T., CHOCOLATE CANDY 600 M.T., B...         165   \n",
       "4                               HOTEL SERVICE 113 ROOMS         189   \n",
       "...                                                 ...         ...   \n",
       "6514                          PROCESSED COFFEE 10000 KG          24   \n",
       "6515                 HOTEL 40 BEDS, RESTAURANT 70 SEATS          41   \n",
       "6516             MASH FEED 5900 MT, PELLET FEED 3000 MT          34   \n",
       "6517            POULTRY & CATTLE FEED (PELLET) 24000 MT          53   \n",
       "6518  NOODLES 10000 M.T., CHEESE BALLS 500 M.T., VAR...          89   \n",
       "\n",
       "           category   scale     power                        investment  \\\n",
       "0     MANUFACTURING   LARGE   3975 KW                      Local - 100%   \n",
       "1           SERVICE  MEDIUM         0                      Local - 100%   \n",
       "2           TOURISM   SMALL        10                      Local - 100%   \n",
       "3     MANUFACTURING   SMALL  1000 KVA                      Local - 100%   \n",
       "4           TOURISM  MEDIUM     40 KW                      Local - 100%   \n",
       "...             ...     ...       ...                               ...   \n",
       "6514  MANUFACTURING   SMALL    25 KVA  Local - 64.11%, Foreign - 35.89%   \n",
       "6515        TOURISM   SMALL    75 KVA                    Foreign - 100%   \n",
       "6516  MANUFACTURING  MEDIUM   500 KVA                      Local - 100%   \n",
       "6517  MANUFACTURING   LARGE  1000 KVA                      Local - 100%   \n",
       "6518  MANUFACTURING   LARGE  1800 KVA                      Local - 100%   \n",
       "\n",
       "      register_year  local_percent  foreign_percent  \n",
       "0              2018         100.00             0.00  \n",
       "1              2022         100.00             0.00  \n",
       "2              2022         100.00             0.00  \n",
       "3              2030         100.00             0.00  \n",
       "4              2030         100.00             0.00  \n",
       "...             ...            ...              ...  \n",
       "6514           2073          64.11            35.89  \n",
       "6515           2073           0.00           100.00  \n",
       "6516           2073         100.00             0.00  \n",
       "6517           2073         100.00             0.00  \n",
       "6518           2073         100.00             0.00  \n",
       "\n",
       "[6519 rows x 17 columns]"
      ]
     },
     "execution_count": 7,
     "metadata": {},
     "output_type": "execute_result"
    }
   ],
   "source": [
    "df"
   ]
  },
  {
   "cell_type": "markdown",
   "metadata": {
    "colab_type": "text",
    "id": "G65Y0pTxW6S0",
    "slideshow": {
     "slide_type": "fragment"
    }
   },
   "source": [
    "We can see that something happened in 2049 and hence there's high number of industry registrations then. This needs further research."
   ]
  },
  {
   "cell_type": "markdown",
   "metadata": {
    "colab_type": "text",
    "id": "EpZCt5-qW6S1",
    "slideshow": {
     "slide_type": "slide"
    }
   },
   "source": [
    "## FDI trend\n",
    "\n",
    "Lets see how many of these industries have received FDI."
   ]
  },
  {
   "cell_type": "markdown",
   "metadata": {
    "colab_type": "text",
    "id": "TWzitqo2W6S2",
    "slideshow": {
     "slide_type": "fragment"
    }
   },
   "source": [
    "**Question for Discussion**\n",
    "\n",
    "* How to add FDI data to the above trend?"
   ]
  },
  {
   "cell_type": "code",
   "execution_count": 8,
   "metadata": {},
   "outputs": [],
   "source": [
    "df[\"has_fdi\"] = df[\"foreign_percent\"] > 0"
   ]
  },
  {
   "cell_type": "code",
   "execution_count": 9,
   "metadata": {},
   "outputs": [
    {
     "data": {
      "text/plain": [
       "0       False\n",
       "1       False\n",
       "2       False\n",
       "3       False\n",
       "4       False\n",
       "        ...  \n",
       "6514     True\n",
       "6515     True\n",
       "6516    False\n",
       "6517    False\n",
       "6518    False\n",
       "Name: has_fdi, Length: 6519, dtype: bool"
      ]
     },
     "execution_count": 9,
     "metadata": {},
     "output_type": "execute_result"
    }
   ],
   "source": [
    "df[\"has_fdi\"]"
   ]
  },
  {
   "cell_type": "code",
   "execution_count": 10,
   "metadata": {},
   "outputs": [
    {
     "data": {
      "text/plain": [
       "register_year  has_fdi\n",
       "2018           False        1\n",
       "2022           False        2\n",
       "2030           False        4\n",
       "2032           False        1\n",
       "2033           False        2\n",
       "2034           False        2\n",
       "2035           False        2\n",
       "2037           False        2\n",
       "2038           False        1\n",
       "2039           False        5\n",
       "2040           False        1\n",
       "2041           False        2\n",
       "2042           False        3\n",
       "2043           False        5\n",
       "2044           False        4\n",
       "2045           False        6\n",
       "2046           False        4\n",
       "2047           False       96\n",
       "2048           False      177\n",
       "2049           False      878\n",
       "2050           False      127\n",
       "2051           False      193\n",
       "2052           False      335\n",
       "2053           False      290\n",
       "2054           False      147\n",
       "2055           False       95\n",
       "2056           False      146\n",
       "2057           False      162\n",
       "2058           False      144\n",
       "2059           False      104\n",
       "2060           False      149\n",
       "2061           False      108\n",
       "2062           False      121\n",
       "2063           False      140\n",
       "2064           False      224\n",
       "2065           False      276\n",
       "2066           False      275\n",
       "2067           False      241\n",
       "2068           False      260\n",
       "2069           False      231\n",
       "               True       162\n",
       "2070           False      114\n",
       "               True       260\n",
       "2071           False      152\n",
       "               True       319\n",
       "2072           False      130\n",
       "               True       260\n",
       "2073           False       35\n",
       "               True       121\n",
       "dtype: int64"
      ]
     },
     "execution_count": 10,
     "metadata": {},
     "output_type": "execute_result"
    }
   ],
   "source": [
    "df.groupby([\"register_year\", \"has_fdi\"]).size()"
   ]
  },
  {
   "cell_type": "code",
   "execution_count": 11,
   "metadata": {
    "colab": {},
    "colab_type": "code",
    "id": "QcabaABrW6S2",
    "outputId": "795fc11f-691d-417e-fa6f-8136816034e5",
    "slideshow": {
     "slide_type": "subslide"
    }
   },
   "outputs": [
    {
     "data": {
      "text/plain": [
       "<matplotlib.axes._subplots.AxesSubplot at 0x243f882e848>"
      ]
     },
     "execution_count": 11,
     "metadata": {},
     "output_type": "execute_result"
    },
    {
     "data": {
      "image/png": "[encoded data removed]",
      "text/plain": [
       "<Figure size 864x360 with 1 Axes>"
      ]
     },
     "metadata": {
      "needs_background": "light"
     },
     "output_type": "display_data"
    }
   ],
   "source": [
    "df.groupby([\"register_year\", \"has_fdi\"]).size().unstack().plot(kind='bar', stacked=True, figsize=(12,5))"
   ]
  },
  {
   "cell_type": "markdown",
   "metadata": {
    "colab_type": "text",
    "id": "RVIixcKpW6S5",
    "slideshow": {
     "slide_type": "subslide"
    }
   },
   "source": [
    "We see that FDI flows into Nepal since 2069 only based on data. Validity of this data will need further research. But for now we will trust this data. \n",
    "\n",
    "Lets focus on last 5 years only as we have FDI flowing in since last 5 years only"
   ]
  },
  {
   "cell_type": "markdown",
   "metadata": {
    "colab_type": "text",
    "id": "_L9tqJn4W6S5",
    "slideshow": {
     "slide_type": "slide"
    }
   },
   "source": [
    "## Convergence in Analysis"
   ]
  },
  {
   "cell_type": "markdown",
   "metadata": {
    "colab_type": "text",
    "id": "K--TZOAdW6S6",
    "slideshow": {
     "slide_type": "fragment"
    }
   },
   "source": [
    "Now we will create a new dataframe so that our analysis narrows down to last 5 years data only."
   ]
  },
  {
   "cell_type": "code",
   "execution_count": 12,
   "metadata": {
    "colab": {},
    "colab_type": "code",
    "id": "8crc6bkTW6S7",
    "slideshow": {
     "slide_type": "fragment"
    }
   },
   "outputs": [],
   "source": [
    "df_5years = df.query(\"register_year>2068\")"
   ]
  },
  {
   "cell_type": "code",
   "execution_count": 13,
   "metadata": {
    "colab": {},
    "colab_type": "code",
    "id": "ntbB3flYW6S9",
    "outputId": "813ed65a-99a6-48db-a670-031dd3c49953",
    "slideshow": {
     "slide_type": "fragment"
    }
   },
   "outputs": [
    {
     "data": {
      "text/html": [
       "<div>\n",
       "<style scoped>\n",
       "    .dataframe tbody tr th:only-of-type {\n",
       "        vertical-align: middle;\n",
       "    }\n",
       "\n",
       "    .dataframe tbody tr th {\n",
       "        vertical-align: top;\n",
       "    }\n",
       "\n",
       "    .dataframe thead th {\n",
       "        text-align: right;\n",
       "    }\n",
       "</style>\n",
       "<table border=\"1\" class=\"dataframe\">\n",
       "  <thead>\n",
       "    <tr style=\"text-align: right;\">\n",
       "      <th></th>\n",
       "      <th>sn</th>\n",
       "      <th>register_date</th>\n",
       "      <th>investor</th>\n",
       "      <th>name</th>\n",
       "      <th>district</th>\n",
       "      <th>total_capital</th>\n",
       "      <th>fixed_capital</th>\n",
       "      <th>working_capital</th>\n",
       "      <th>annual_capacity</th>\n",
       "      <th>employment</th>\n",
       "      <th>category</th>\n",
       "      <th>scale</th>\n",
       "      <th>power</th>\n",
       "      <th>investment</th>\n",
       "      <th>register_year</th>\n",
       "      <th>local_percent</th>\n",
       "      <th>foreign_percent</th>\n",
       "      <th>has_fdi</th>\n",
       "    </tr>\n",
       "  </thead>\n",
       "  <tbody>\n",
       "    <tr>\n",
       "      <th>4735</th>\n",
       "      <td>4736</td>\n",
       "      <td>61731</td>\n",
       "      <td>MR NIRVANA KUMAR CHAUDHARY</td>\n",
       "      <td>C.G.FOODS ENTERPRISES PVT.LTD</td>\n",
       "      <td>BARDIYA</td>\n",
       "      <td>247000000</td>\n",
       "      <td>207000000</td>\n",
       "      <td>40000000</td>\n",
       "      <td>INSTANT NOODLES - 8000 MT, BROKEN NODDLES BHUJ...</td>\n",
       "      <td>119</td>\n",
       "      <td>MANUFACTURING</td>\n",
       "      <td>LARGE</td>\n",
       "      <td>500 KVA</td>\n",
       "      <td>Local - 100%</td>\n",
       "      <td>2069</td>\n",
       "      <td>100.0</td>\n",
       "      <td>0.0</td>\n",
       "      <td>False</td>\n",
       "    </tr>\n",
       "    <tr>\n",
       "      <th>4736</th>\n",
       "      <td>4737</td>\n",
       "      <td>61732</td>\n",
       "      <td>MR HERBERT WESELY</td>\n",
       "      <td>DARK WOOD ENTERTAIMEN T PVT.LTD</td>\n",
       "      <td>LALITPUR</td>\n",
       "      <td>4000000</td>\n",
       "      <td>3200000</td>\n",
       "      <td>800000</td>\n",
       "      <td>SOFTWARE DEVELOPMENT - 80 PACKAGE</td>\n",
       "      <td>30</td>\n",
       "      <td>SERVICE</td>\n",
       "      <td>SMALL</td>\n",
       "      <td>15 KVA</td>\n",
       "      <td>Local - 100%, Foreign - 0%</td>\n",
       "      <td>2069</td>\n",
       "      <td>100.0</td>\n",
       "      <td>0.0</td>\n",
       "      <td>False</td>\n",
       "    </tr>\n",
       "    <tr>\n",
       "      <th>4737</th>\n",
       "      <td>4738</td>\n",
       "      <td>61732</td>\n",
       "      <td>MR LIU XIAO MING</td>\n",
       "      <td>HUIMING LANGUAGE TRAINING CENTER PVT.LTD</td>\n",
       "      <td>KATHMANDU</td>\n",
       "      <td>10000000</td>\n",
       "      <td>9000000</td>\n",
       "      <td>1000000</td>\n",
       "      <td>CHINESE LANGUAGE TRAINING - 600 STUDENT, NEPAL...</td>\n",
       "      <td>29</td>\n",
       "      <td>SERVICE</td>\n",
       "      <td>SMALL</td>\n",
       "      <td>15 KVA</td>\n",
       "      <td>Local - 100%, Foreign - 0%</td>\n",
       "      <td>2069</td>\n",
       "      <td>100.0</td>\n",
       "      <td>0.0</td>\n",
       "      <td>False</td>\n",
       "    </tr>\n",
       "  </tbody>\n",
       "</table>\n",
       "</div>"
      ],
      "text/plain": [
       "        sn register_date                    investor  \\\n",
       "4735  4736         61731  MR NIRVANA KUMAR CHAUDHARY   \n",
       "4736  4737         61732           MR HERBERT WESELY   \n",
       "4737  4738         61732            MR LIU XIAO MING   \n",
       "\n",
       "                                          name   district  total_capital  \\\n",
       "4735             C.G.FOODS ENTERPRISES PVT.LTD    BARDIYA      247000000   \n",
       "4736           DARK WOOD ENTERTAIMEN T PVT.LTD   LALITPUR        4000000   \n",
       "4737  HUIMING LANGUAGE TRAINING CENTER PVT.LTD  KATHMANDU       10000000   \n",
       "\n",
       "     fixed_capital  working_capital  \\\n",
       "4735     207000000         40000000   \n",
       "4736       3200000           800000   \n",
       "4737       9000000          1000000   \n",
       "\n",
       "                                        annual_capacity  employment  \\\n",
       "4735  INSTANT NOODLES - 8000 MT, BROKEN NODDLES BHUJ...         119   \n",
       "4736                  SOFTWARE DEVELOPMENT - 80 PACKAGE          30   \n",
       "4737  CHINESE LANGUAGE TRAINING - 600 STUDENT, NEPAL...          29   \n",
       "\n",
       "           category  scale    power                  investment  \\\n",
       "4735  MANUFACTURING  LARGE  500 KVA                Local - 100%   \n",
       "4736        SERVICE  SMALL   15 KVA  Local - 100%, Foreign - 0%   \n",
       "4737        SERVICE  SMALL   15 KVA  Local - 100%, Foreign - 0%   \n",
       "\n",
       "      register_year  local_percent  foreign_percent  has_fdi  \n",
       "4735           2069          100.0              0.0    False  \n",
       "4736           2069          100.0              0.0    False  \n",
       "4737           2069          100.0              0.0    False  "
      ]
     },
     "execution_count": 13,
     "metadata": {},
     "output_type": "execute_result"
    }
   ],
   "source": [
    "df_5years.head(3)"
   ]
  },
  {
   "cell_type": "code",
   "execution_count": 14,
   "metadata": {},
   "outputs": [
    {
     "name": "stdout",
     "output_type": "stream",
     "text": [
      "<class 'pandas.core.frame.DataFrame'>\n",
      "RangeIndex: 6519 entries, 0 to 6518\n",
      "Data columns (total 18 columns):\n",
      "sn                 6519 non-null int64\n",
      "register_date      6519 non-null object\n",
      "investor           6373 non-null object\n",
      "name               6513 non-null object\n",
      "district           6517 non-null object\n",
      "total_capital      6519 non-null int64\n",
      "fixed_capital      6519 non-null object\n",
      "working_capital    6519 non-null int64\n",
      "annual_capacity    6501 non-null object\n",
      "employment         6519 non-null int64\n",
      "category           6519 non-null object\n",
      "scale              6519 non-null object\n",
      "power              6519 non-null object\n",
      "investment         6519 non-null object\n",
      "register_year      6519 non-null int64\n",
      "local_percent      6519 non-null float64\n",
      "foreign_percent    6519 non-null float64\n",
      "has_fdi            6519 non-null bool\n",
      "dtypes: bool(1), float64(2), int64(5), object(10)\n",
      "memory usage: 872.3+ KB\n"
     ]
    }
   ],
   "source": [
    "df.info()"
   ]
  },
  {
   "cell_type": "markdown",
   "metadata": {
    "colab_type": "text",
    "id": "gQjGvyFdW6TB",
    "slideshow": {
     "slide_type": "slide"
    }
   },
   "source": [
    "## FDI vs NonFDI analysis"
   ]
  },
  {
   "cell_type": "code",
   "execution_count": 15,
   "metadata": {
    "colab": {},
    "colab_type": "code",
    "id": "KNZpY2NpW6TC",
    "outputId": "7c8fbf80-a5d1-4554-e2c5-89ce0b3d6008",
    "slideshow": {
     "slide_type": "fragment"
    }
   },
   "outputs": [
    {
     "data": {
      "text/plain": [
       "<matplotlib.axes._subplots.AxesSubplot at 0x243f880e1c8>"
      ]
     },
     "execution_count": 15,
     "metadata": {},
     "output_type": "execute_result"
    },
    {
     "data": {
      "image/png": "[encoded data removed]",
      "text/plain": [
       "<Figure size 432x288 with 1 Axes>"
      ]
     },
     "metadata": {
      "needs_background": "light"
     },
     "output_type": "display_data"
    }
   ],
   "source": [
    "df_5years.plot(kind = \"scatter\", x = \"working_capital\", y = \"employment\", alpha=0.5)"
   ]
  },
  {
   "cell_type": "markdown",
   "metadata": {
    "colab_type": "text",
    "id": "0Nmb3JjQW6TH",
    "slideshow": {
     "slide_type": "slide"
    }
   },
   "source": [
    "## Scatter plot with different scales for FDI\n",
    "\n",
    "Lets show different scales in in scatter plot"
   ]
  },
  {
   "cell_type": "code",
   "execution_count": 16,
   "metadata": {
    "colab": {},
    "colab_type": "code",
    "id": "bxgXnasDW6TI",
    "outputId": "989b1284-db3a-4288-8c53-df3ef5faa268",
    "slideshow": {
     "slide_type": "fragment"
    }
   },
   "outputs": [
    {
     "data": {
      "image/png": "[encoded data removed]",
      "text/plain": [
       "<Figure size 864x432 with 1 Axes>"
      ]
     },
     "metadata": {
      "needs_background": "light"
     },
     "output_type": "display_data"
    }
   ],
   "source": [
    "df_foreign = df_5years[df_5years.has_fdi == True]\n",
    "\n",
    "import matplotlib.pyplot as plt\n",
    "\n",
    "fig = plt.figure(figsize=(12,6))\n",
    "ax = fig.add_subplot()\n",
    "ax.scatter(df_foreign.query(\"scale == 'SMALL'\").working_capital, df_foreign.query(\"scale == 'SMALL'\").employment, alpha=0.2, color=\"blue\")\n",
    "ax.scatter(df_foreign.query(\"scale == 'MEDIUM'\").working_capital, df_foreign.query(\"scale == 'MEDIUM'\").employment, alpha=0.6, color=\"orange\")\n",
    "ax.scatter(df_foreign.query(\"scale == 'LARGE'\").working_capital, df_foreign.query(\"scale == 'LARGE'\").employment, alpha=0.6, color=\"green\")\n",
    "\n",
    "plt.show()"
   ]
  },
  {
   "cell_type": "markdown",
   "metadata": {
    "colab_type": "text",
    "id": "MOeH1aWAW6TM",
    "slideshow": {
     "slide_type": "subslide"
    }
   },
   "source": [
    "Everything is concentrated in the bottom-left corner. Lets spread the data using log scale"
   ]
  },
  {
   "cell_type": "code",
   "execution_count": 17,
   "metadata": {
    "colab": {},
    "colab_type": "code",
    "id": "p8O6-KhYW6TM",
    "outputId": "3e154ce6-1586-461b-8004-419f354ae321",
    "slideshow": {
     "slide_type": "fragment"
    }
   },
   "outputs": [
    {
     "data": {
      "image/png": "[encoded data removed]",
      "text/plain": [
       "<Figure size 864x432 with 1 Axes>"
      ]
     },
     "metadata": {
      "needs_background": "light"
     },
     "output_type": "display_data"
    }
   ],
   "source": [
    "fig = plt.figure(figsize=(12,6))\n",
    "ax = fig.add_subplot(111)\n",
    "ax.scatter(df_foreign.query(\"scale == 'SMALL'\").working_capital, df_foreign.query(\"scale == 'SMALL'\").employment, alpha=0.2, color=\"blue\", label=\"small\")\n",
    "ax.scatter(df_foreign.query(\"scale == 'MEDIUM'\").working_capital, df_foreign.query(\"scale == 'MEDIUM'\").employment, alpha=0.6, color=\"orange\", label=\"medium\")\n",
    "ax.scatter(df_foreign.query(\"scale == 'LARGE'\").working_capital, df_foreign.query(\"scale == 'LARGE'\").employment, alpha=0.6, color=\"green\", label=\"large\")\n",
    "ax.set_ylim([0,1000])\n",
    "ax.set_yscale('symlog')\n",
    "ax.set_xscale('log')\n",
    "ax.legend()\n",
    "\n",
    "plt.show()"
   ]
  },
  {
   "cell_type": "markdown",
   "metadata": {
    "colab_type": "text",
    "id": "i17Y1bjQW6TR",
    "slideshow": {
     "slide_type": "slide"
    }
   },
   "source": [
    "## Scatter plot with different scales for 100% local investment\n",
    "\n",
    "**Exercise:**\n",
    "\n",
    "* Conduct the above analysis for 100% local investment."
   ]
  },
  {
   "cell_type": "code",
   "execution_count": 18,
   "metadata": {
    "colab": {},
    "colab_type": "code",
    "id": "nXOXmkSgW6TS",
    "outputId": "7716a77a-f9d1-430e-be0c-43d43a7fc612",
    "slideshow": {
     "slide_type": "subslide"
    }
   },
   "outputs": [
    {
     "data": {
      "image/png": "[encoded data removed]",
      "text/plain": [
       "<Figure size 864x432 with 1 Axes>"
      ]
     },
     "metadata": {
      "needs_background": "light"
     },
     "output_type": "display_data"
    }
   ],
   "source": [
    "df_local = df_5years[df_5years.has_fdi==False]\n",
    "\n",
    "fig = plt.figure(figsize=(12,6))\n",
    "ax = fig.add_subplot(111)\n",
    "ax.scatter(df_local.query(\"scale == 'SMALL'\").working_capital, df_local.query(\"scale == 'SMALL'\").employment, alpha=0.2, color=\"blue\", label=\"small\")\n",
    "ax.scatter(df_local.query(\"scale == 'MEDIUM'\").working_capital, df_local.query(\"scale == 'MEDIUM'\").employment, alpha=0.6, color=\"orange\", label=\"medium\")\n",
    "ax.scatter(df_local.query(\"scale == 'LARGE'\").working_capital, df_local.query(\"scale == 'LARGE'\").employment, alpha=0.6, color=\"green\", label=\"large\")\n",
    "ax.set_ylim([0,1000])\n",
    "ax.set_yscale('symlog')\n",
    "ax.set_xscale('log')\n",
    "ax.legend()\n",
    "\n",
    "plt.show()"
   ]
  },
  {
   "cell_type": "markdown",
   "metadata": {
    "colab_type": "text",
    "id": "5bS_IAGIW6TW",
    "slideshow": {
     "slide_type": "slide"
    }
   },
   "source": [
    "## Scatter plot side by side\n",
    "\n",
    "Lets put the above charts side by side."
   ]
  },
  {
   "cell_type": "code",
   "execution_count": 19,
   "metadata": {
    "colab": {},
    "colab_type": "code",
    "id": "WbWsICUJW6TX",
    "outputId": "f7e0ee66-43b6-48ed-9795-1accbe72de49",
    "slideshow": {
     "slide_type": "subslide"
    }
   },
   "outputs": [
    {
     "data": {
      "image/png": "[encoded data removed]",
      "text/plain": [
       "<Figure size 864x432 with 2 Axes>"
      ]
     },
     "metadata": {
      "needs_background": "light"
     },
     "output_type": "display_data"
    }
   ],
   "source": [
    "fig = plt.figure(figsize=(12,6))\n",
    "ax1 = fig.add_subplot(121)\n",
    "ax2 = fig.add_subplot(122)\n",
    "\n",
    "ax1.scatter(df_local.query(\"scale == 'SMALL'\").working_capital, df_local.query(\"scale == 'SMALL'\").employment, alpha=0.2, color=\"blue\", label=\"small\")\n",
    "ax1.scatter(df_local.query(\"scale == 'MEDIUM'\").working_capital, df_local.query(\"scale == 'MEDIUM'\").employment, alpha=0.6, color=\"orange\", label=\"medium\")\n",
    "ax1.scatter(df_local.query(\"scale == 'LARGE'\").working_capital, df_local.query(\"scale == 'LARGE'\").employment, alpha=0.6, color=\"green\", label=\"large\")\n",
    "ax1.set_ylim([0,1000])\n",
    "ax1.set_yscale('symlog')\n",
    "ax1.set_xscale('log')\n",
    "ax1.set_title(\"Non-FDI\")\n",
    "ax1.legend()\n",
    "\n",
    "ax2.scatter(df_foreign.query(\"scale == 'SMALL'\").working_capital, df_foreign.query(\"scale == 'SMALL'\").employment, alpha=0.2, color=\"blue\", label=\"small\")\n",
    "ax2.scatter(df_foreign.query(\"scale == 'MEDIUM'\").working_capital, df_foreign.query(\"scale == 'MEDIUM'\").employment, alpha=0.6, color=\"orange\", label=\"medium\")\n",
    "ax2.scatter(df_foreign.query(\"scale == 'LARGE'\").working_capital, df_foreign.query(\"scale == 'LARGE'\").employment, alpha=0.6, color=\"green\", label=\"large\")\n",
    "ax2.set_ylim([0,1000])\n",
    "ax2.set_yscale('symlog')\n",
    "ax2.set_xscale('log')\n",
    "ax2.set_title(\"FDI\")\n",
    "ax2.legend()\n",
    "\n",
    "plt.show()"
   ]
  },
  {
   "cell_type": "markdown",
   "metadata": {
    "colab_type": "text",
    "id": "0Z1sQQT4W6Ta",
    "slideshow": {
     "slide_type": "subslide"
    }
   },
   "source": [
    "**Question for Discussion**\n",
    "\n",
    "* What can you infer from above scatterplots?"
   ]
  },
  {
   "cell_type": "markdown",
   "metadata": {
    "colab_type": "text",
    "id": "Nm4vQX29W6Ta",
    "slideshow": {
     "slide_type": "fragment"
    }
   },
   "source": [
    "We see that FDI flows more into small scale industries compared to large scale industries."
   ]
  },
  {
   "cell_type": "markdown",
   "metadata": {
    "slideshow": {
     "slide_type": "slide"
    }
   },
   "source": [
    "## Binning foreign investment into different ranges"
   ]
  },
  {
   "cell_type": "markdown",
   "metadata": {
    "colab": {},
    "colab_type": "code",
    "id": "n78t3cjrW6Tb",
    "slideshow": {
     "slide_type": "fragment"
    }
   },
   "source": [
    "Lets see how FDI investment varies like how many are 100% and how many are less than 100%."
   ]
  },
  {
   "cell_type": "code",
   "execution_count": 22,
   "metadata": {
    "slideshow": {
     "slide_type": "fragment"
    }
   },
   "outputs": [],
   "source": [
    "bins = [0,10,49,99,100]\n",
    "labels = [\"<=10%\",\"11 to 49%\",\"50-less than 100%\",\"100%\"]\n",
    "# df_foreign[\"fdi_range\"] = pd.cut(df_foreign.foreign_percent, bins, labels = labels)\n",
    "df_foreign.loc[:,\"fdi_range\"] = pd.cut(df_foreign.foreign_percent, bins, labels = labels)"
   ]
  },
  {
   "cell_type": "code",
   "execution_count": 23,
   "metadata": {
    "slideshow": {
     "slide_type": "subslide"
    }
   },
   "outputs": [
    {
     "data": {
      "text/plain": [
       "fdi_range\n",
       "<=10%                  3\n",
       "11 to 49%             41\n",
       "50-less than 100%    157\n",
       "100%                 921\n",
       "dtype: int64"
      ]
     },
     "execution_count": 23,
     "metadata": {},
     "output_type": "execute_result"
    }
   ],
   "source": [
    "df_foreign.groupby(\"fdi_range\").size()"
   ]
  },
  {
   "cell_type": "markdown",
   "metadata": {
    "slideshow": {
     "slide_type": "fragment"
    }
   },
   "source": [
    "We see that majority of investment are 100%. It's interesting to see small investments. Lets identify those small investments."
   ]
  },
  {
   "cell_type": "code",
   "execution_count": 24,
   "metadata": {
    "slideshow": {
     "slide_type": "subslide"
    }
   },
   "outputs": [
    {
     "data": {
      "text/html": [
       "<div>\n",
       "<style scoped>\n",
       "    .dataframe tbody tr th:only-of-type {\n",
       "        vertical-align: middle;\n",
       "    }\n",
       "\n",
       "    .dataframe tbody tr th {\n",
       "        vertical-align: top;\n",
       "    }\n",
       "\n",
       "    .dataframe thead th {\n",
       "        text-align: right;\n",
       "    }\n",
       "</style>\n",
       "<table border=\"1\" class=\"dataframe\">\n",
       "  <thead>\n",
       "    <tr style=\"text-align: right;\">\n",
       "      <th></th>\n",
       "      <th>sn</th>\n",
       "      <th>register_date</th>\n",
       "      <th>investor</th>\n",
       "      <th>name</th>\n",
       "      <th>district</th>\n",
       "      <th>total_capital</th>\n",
       "      <th>fixed_capital</th>\n",
       "      <th>working_capital</th>\n",
       "      <th>annual_capacity</th>\n",
       "      <th>employment</th>\n",
       "      <th>category</th>\n",
       "      <th>scale</th>\n",
       "      <th>power</th>\n",
       "      <th>investment</th>\n",
       "      <th>register_year</th>\n",
       "      <th>local_percent</th>\n",
       "      <th>foreign_percent</th>\n",
       "      <th>has_fdi</th>\n",
       "      <th>fdi_range</th>\n",
       "    </tr>\n",
       "  </thead>\n",
       "  <tbody>\n",
       "    <tr>\n",
       "      <th>4857</th>\n",
       "      <td>4858</td>\n",
       "      <td>61841</td>\n",
       "      <td>M/S Mountain Equipe SRI (Italy)</td>\n",
       "      <td>MOUNTAIN EQUIP HOTEL NEPAL PVT. LTD.</td>\n",
       "      <td>KATHMANDU</td>\n",
       "      <td>48113000</td>\n",
       "      <td>41662000</td>\n",
       "      <td>6451000</td>\n",
       "      <td>HOTEL 8 DOUBLE BED ROOM</td>\n",
       "      <td>18</td>\n",
       "      <td>TOURISM</td>\n",
       "      <td>MEDIUM</td>\n",
       "      <td>100 KVA</td>\n",
       "      <td>Local - 90%, Foreign - 10%</td>\n",
       "      <td>2069</td>\n",
       "      <td>90.0</td>\n",
       "      <td>10.0</td>\n",
       "      <td>True</td>\n",
       "      <td>&lt;=10%</td>\n",
       "    </tr>\n",
       "    <tr>\n",
       "      <th>5839</th>\n",
       "      <td>5840</td>\n",
       "      <td>62702</td>\n",
       "      <td>M/S SOALTEE HOSPITALITY LTD. (NEPAL), M/S SOAL...</td>\n",
       "      <td>SOALTEE SIBKRIM HOTELS AND RESORTS PVT. LTD.</td>\n",
       "      <td>BANKE</td>\n",
       "      <td>441770000</td>\n",
       "      <td>395560000</td>\n",
       "      <td>46210000</td>\n",
       "      <td>HOTEL 99 BEDS, RESTAURANT 100 SEATS</td>\n",
       "      <td>50</td>\n",
       "      <td>TOURISM</td>\n",
       "      <td>MEDIUM</td>\n",
       "      <td>10 KVA</td>\n",
       "      <td>Local - 97.6%, Foreign - 2.4%</td>\n",
       "      <td>2071</td>\n",
       "      <td>97.6</td>\n",
       "      <td>2.4</td>\n",
       "      <td>True</td>\n",
       "      <td>&lt;=10%</td>\n",
       "    </tr>\n",
       "    <tr>\n",
       "      <th>5909</th>\n",
       "      <td>5910</td>\n",
       "      <td>62765</td>\n",
       "      <td>M/S SOALTEE HOTEL LIMITED</td>\n",
       "      <td>SOALTEE HOSPITALITY LIMITED</td>\n",
       "      <td>BANKE</td>\n",
       "      <td>500000000</td>\n",
       "      <td>480000000</td>\n",
       "      <td>20000000</td>\n",
       "      <td>HOTEL 48 BEDS, RESTAURANT 100 SEATS</td>\n",
       "      <td>70</td>\n",
       "      <td>TOURISM</td>\n",
       "      <td>LARGE</td>\n",
       "      <td>200 KVA</td>\n",
       "      <td>Local - 90%, Foreign - 10%</td>\n",
       "      <td>2071</td>\n",
       "      <td>90.0</td>\n",
       "      <td>10.0</td>\n",
       "      <td>True</td>\n",
       "      <td>&lt;=10%</td>\n",
       "    </tr>\n",
       "  </tbody>\n",
       "</table>\n",
       "</div>"
      ],
      "text/plain": [
       "        sn register_date                                           investor  \\\n",
       "4857  4858         61841                    M/S Mountain Equipe SRI (Italy)   \n",
       "5839  5840         62702  M/S SOALTEE HOSPITALITY LTD. (NEPAL), M/S SOAL...   \n",
       "5909  5910         62765                          M/S SOALTEE HOTEL LIMITED   \n",
       "\n",
       "                                              name   district  total_capital  \\\n",
       "4857          MOUNTAIN EQUIP HOTEL NEPAL PVT. LTD.  KATHMANDU       48113000   \n",
       "5839  SOALTEE SIBKRIM HOTELS AND RESORTS PVT. LTD.      BANKE      441770000   \n",
       "5909                   SOALTEE HOSPITALITY LIMITED      BANKE      500000000   \n",
       "\n",
       "     fixed_capital  working_capital                      annual_capacity  \\\n",
       "4857      41662000          6451000              HOTEL 8 DOUBLE BED ROOM   \n",
       "5839     395560000         46210000  HOTEL 99 BEDS, RESTAURANT 100 SEATS   \n",
       "5909     480000000         20000000  HOTEL 48 BEDS, RESTAURANT 100 SEATS   \n",
       "\n",
       "      employment category   scale    power                     investment  \\\n",
       "4857          18  TOURISM  MEDIUM  100 KVA     Local - 90%, Foreign - 10%   \n",
       "5839          50  TOURISM  MEDIUM   10 KVA  Local - 97.6%, Foreign - 2.4%   \n",
       "5909          70  TOURISM   LARGE  200 KVA     Local - 90%, Foreign - 10%   \n",
       "\n",
       "      register_year  local_percent  foreign_percent  has_fdi fdi_range  \n",
       "4857           2069           90.0             10.0     True     <=10%  \n",
       "5839           2071           97.6              2.4     True     <=10%  \n",
       "5909           2071           90.0             10.0     True     <=10%  "
      ]
     },
     "execution_count": 24,
     "metadata": {},
     "output_type": "execute_result"
    }
   ],
   "source": [
    "df_foreign[df_foreign.foreign_percent <= 10]"
   ]
  },
  {
   "cell_type": "code",
   "execution_count": 25,
   "metadata": {
    "lines_to_next_cell": 0,
    "slideshow": {
     "slide_type": "subslide"
    }
   },
   "outputs": [
    {
     "data": {
      "image/png": "[encoded data removed]",
      "text/plain": [
       "<Figure size 864x576 with 1 Axes>"
      ]
     },
     "metadata": {
      "needs_background": "light"
     },
     "output_type": "display_data"
    }
   ],
   "source": [
    "small_scale = df_foreign.query(\"foreign_percent == 100 and scale == 'SMALL'\")[\"employment\"]\n",
    "medium_scale = df_foreign.query(\"foreign_percent == 100 and scale == 'MEDIUM'\")[\"employment\"]\n",
    "large_scale = df_foreign.query(\"foreign_percent == 100 and scale == 'LARGE'\")[\"employment\"]\n",
    "\n",
    "fig = plt.figure(figsize=(12,8))\n",
    "ax = fig.add_subplot(111)\n",
    "ax.boxplot([small_scale, medium_scale, large_scale], \n",
    "           labels = [\"Small\", \"Medium\", \"Large\"], meanline = True, showmeans = True)\n",
    "plt.show()"
   ]
  }
 ],
 "metadata": {
  "kernelspec": {
   "display_name": "Python 3",
   "language": "python",
   "name": "python3"
  },
  "language_info": {
   "codemirror_mode": {
    "name": "ipython",
    "version": 3
   },
   "file_extension": ".py",
   "mimetype": "text/x-python",
   "name": "python",
   "nbconvert_exporter": "python",
   "pygments_lexer": "ipython3",
   "version": "3.7.4"
  }
 },
 "nbformat": 4,
 "nbformat_minor": 4
}
