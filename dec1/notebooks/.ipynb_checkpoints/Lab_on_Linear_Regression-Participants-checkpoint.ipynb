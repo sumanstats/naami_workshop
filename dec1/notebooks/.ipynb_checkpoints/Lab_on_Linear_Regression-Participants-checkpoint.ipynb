{
 "cells": [
  {
   "cell_type": "markdown",
   "metadata": {
    "colab_type": "text",
    "id": "IxW7BbdcU2x4"
   },
   "source": [
    "<h1 style=\"text-align: center;\" markdown=\"1\">Intro to Data Science and Machine Learning Using Python</h1> \n",
    "<h2 style=\"text-align: center;\" markdown=\"2\">Nov 30 - Dec 1, 2019</h2>\n",
    "<h3 style=\"text-align: center;\" markdown=\"3\">Lab on Linear Regression</h3>\n",
    "\n",
    "\n",
    "> *This notebook is part of the Workshop on Introduction to Data Science and Machine Learning with Python, a 2-day workshop organized by NAAMII. The objectives of this notebook is to use Linear Regression to predict district wise poverty rates in Nepal using predictor variables such as literacy rate, household size, share of kids etc. The data used in this exercise is part of Census 2011 conducted by the Central Bureau of Statistics (CBS), Nepal.*\n"
   ]
  },
  {
   "cell_type": "markdown",
   "metadata": {
    "colab_type": "text",
    "id": "twIl13yiU2x6"
   },
   "source": [
    "# Table of Contents\n",
    "\n",
    "[Introduction](#introduction)  \n",
    "&nbsp;&nbsp;&nbsp;[Explanation and Theory](#introduction-theory)  \n",
    "[Data Setup](#setup)  \n",
    "[Two Dimensional Linear Regression](#1dlinreg)   \n",
    "[Scikit-Learn Linear Regression](#sklearn-linreg)    \n",
    "[Summary](#summary)"
   ]
  },
  {
   "cell_type": "markdown",
   "metadata": {
    "colab_type": "text",
    "id": "rrZej9jQU2x7"
   },
   "source": [
    "# Linear Regression Introduction <a class=\"anchor\" id=\"introduction\"></a>\n",
    "\n",
    "Linear regression is one of the most simple and well-known machine learning algorithms for regression. It approximates the relationship between two or more variables using a straight line. \n",
    "\n",
    "It assumes that there is a linear relationship between the independent variables and the dependent variables. In high-dimensional datasets, this may not be the case, so linear regression may not be the best choice for many problems.\n",
    "\n"
   ]
  },
  {
   "cell_type": "markdown",
   "metadata": {
    "colab_type": "text",
    "id": "Ezcq6jFUU2x8"
   },
   "source": [
    "## Explanation and Theory <a class=\"anchor\" id=\"introduction-theory\"></a>\n",
    "\n",
    "**Assumptions and properties.** \n",
    "Suppose we have a data set that consists of n samples and m features\n",
    "\n",
    "\\begin{equation}\n",
    "\\label{eqn:samples}\n",
    "\\mathbf{X} = \\{\\mathbf{x_1}, \\mathbf{x_2}, \\ldots \\mathbf{x_n}\\}, \\quad   \\mathbf{x_i} \\in \\mathbb{R}^{m}\n",
    "\\end{equation}\n",
    "\n",
    "where\n",
    "\n",
    "\\begin{equation}\n",
    "\\label{eqn:features}\n",
    "\\mathbf{x_i} =  (x_i^{(1)}, x_i^{(2)}, \\ldots x_i^{(m)} ) ^T\n",
    "\\end{equation}\n",
    "\n",
    "The target variable is given by\n",
    "\\begin{equation}\n",
    "\\label{eqn:target}\n",
    "\\mathbf{Y}= \\{y_1, y_2 \\ldots y_n \\} \\quad where \\,\\,\\, y_j \\in (0,1)\n",
    "\\end{equation}\n",
    "\n",
    "**Algorithm and Training.** Linear regression takes the form of a linear model:\n",
    "\n",
    "$$f(i)=\\beta_0+\\beta_1x_{i}^{(1)}+...+\\beta_m x_{i}^{(m)} $$\n",
    "\n",
    "where $\\beta_0,...,\\beta_m$ are the regression coefficients or weights assigned to each feature $x$. For each data point $i$, a pseudo-variable $x_{0,i}=1$ is added to correspond to the intercept coefficient $\\beta_0$. This allows us to write the model in vector form as:\n",
    "$$f(i)=\\boldsymbol{\\beta}\\cdot\\boldsymbol{X_i}$$\n",
    "\n",
    "When we train the linear regression classifier, we are trying to find the best values of $\\beta$ to match the data i.e minimizes the following error functional or **objective function**:\n",
    "$$ \\frac{1}{2} \\sum_{i=1}^{n} (y_i - f(i))^2$$\n",
    "\n",
    "There are several techniques to solve this minimization problem, such as [gradient descent](https://en.wikipedia.org/wiki/Gradient_descent)."
   ]
  },
  {
   "cell_type": "markdown",
   "metadata": {
    "colab_type": "text",
    "id": "_xNiuCN4U2x9"
   },
   "source": [
    "# Data setup<a class=\"anchor\" id=\"setup\"></a>"
   ]
  },
  {
   "cell_type": "markdown",
   "metadata": {
    "colab_type": "text",
    "id": "tgIrwpGIU2x9"
   },
   "source": [
    "First, we'll load the libraries that will be used throughout this notebook."
   ]
  },
  {
   "cell_type": "code",
   "execution_count": 0,
   "metadata": {
    "colab": {},
    "colab_type": "code",
    "id": "aAAH9q7UP_yy"
   },
   "outputs": [],
   "source": [
    "import pandas as pd\n",
    "from matplotlib import pyplot as plt\n",
    "%matplotlib inline\n",
    "import seaborn as sns\n",
    "import random"
   ]
  },
  {
   "cell_type": "code",
   "execution_count": 0,
   "metadata": {
    "colab": {},
    "colab_type": "code",
    "id": "dX7Hmgc5GnOt"
   },
   "outputs": [],
   "source": [
    "from sklearn.model_selection import train_test_split\n",
    "from sklearn.linear_model import LinearRegression"
   ]
  },
  {
   "cell_type": "markdown",
   "metadata": {
    "colab_type": "text",
    "id": "RWFIHfFtU2yD"
   },
   "source": [
    "Loading data. In this notebook we should have cleaned and organized the data already, so we should simply have to import our data file into a dataframe"
   ]
  },
  {
   "cell_type": "code",
   "execution_count": 0,
   "metadata": {
    "colab": {},
    "colab_type": "code",
    "id": "g0IrfFMIU2yD"
   },
   "outputs": [],
   "source": [
    "#copy path of your file inside quotes\n",
    "df = pd.read_csv(\"\")\n"
   ]
  },
  {
   "cell_type": "code",
   "execution_count": 0,
   "metadata": {
    "colab": {},
    "colab_type": "code",
    "id": "qcwiA5EFVn8X"
   },
   "outputs": [],
   "source": [
    "#Write the code to display the first 5 columns of the dataframe\n"
   ]
  },
  {
   "cell_type": "code",
   "execution_count": 0,
   "metadata": {
    "colab": {},
    "colab_type": "code",
    "id": "Spn6pMkxe3nv"
   },
   "outputs": [],
   "source": [
    "#Write the code to display the number of rows and columns of the dataframe\n"
   ]
  },
  {
   "cell_type": "code",
   "execution_count": 0,
   "metadata": {
    "colab": {},
    "colab_type": "code",
    "id": "5wf9ZgiSU2yI"
   },
   "outputs": [],
   "source": [
    "#rename the column 'Unnamed: 0' to 'district'\n",
    "df.rename(columns = {'Unnamed: 0': 'district'},inplace=True)"
   ]
  },
  {
   "cell_type": "markdown",
   "metadata": {
    "colab_type": "text",
    "id": "jHCGiGNeU2yL"
   },
   "source": [
    "# Two Dimensional Linear Regression<a class=\"anchor\" id=\"1dlinreg\"></a>"
   ]
  },
  {
   "cell_type": "markdown",
   "metadata": {
    "colab_type": "text",
    "id": "FHe9GuNrU2yL"
   },
   "source": [
    "We will begin by using linear regression to estimate poverty rates for each district using only one independent variable - literacy rate. Let's begin by making a scatter plot of the Poverty rate vs. Literacy rate to get a sense of how they depend on one another. "
   ]
  },
  {
   "cell_type": "code",
   "execution_count": 0,
   "metadata": {
    "colab": {},
    "colab_type": "code",
    "id": "Yp8UrpRjU2yM"
   },
   "outputs": [],
   "source": [
    "plt.scatter(df['literacy rate'],df['poverty rate'])\n",
    "plt.xlabel('Literacy Rate')\n",
    "plt.ylabel('Poverty Rate')\n",
    "plt.title('Poverty Rate vs. Literacy Rate in Districts of Nepal')"
   ]
  },
  {
   "cell_type": "markdown",
   "metadata": {
    "colab_type": "text",
    "id": "Wn6xDpmkU2yN"
   },
   "source": [
    "It looks like the Poverty rate is inversely related to Literacy rate in a somewhat linear way. We can quantify this relationship by finding the correlation between the two variables."
   ]
  },
  {
   "cell_type": "code",
   "execution_count": 0,
   "metadata": {
    "colab": {},
    "colab_type": "code",
    "id": "jjtIBs5tzFDC"
   },
   "outputs": [],
   "source": [
    "#Write the code to find the pearson's correlation between literacy rate and poverty rate\n"
   ]
  },
  {
   "cell_type": "code",
   "execution_count": 0,
   "metadata": {
    "colab": {},
    "colab_type": "code",
    "id": "Iatp06OaU2yQ"
   },
   "outputs": [],
   "source": [
    "df.head()"
   ]
  },
  {
   "cell_type": "code",
   "execution_count": 0,
   "metadata": {
    "colab": {},
    "colab_type": "code",
    "id": "92fGj2g2U2yR"
   },
   "outputs": [],
   "source": [
    "#Write the code to display the last 5 columns of the dataframe\n"
   ]
  },
  {
   "cell_type": "markdown",
   "metadata": {
    "colab_type": "text",
    "id": "QLSwitRyU2yU"
   },
   "source": [
    "Let us remove Achham and Udayapur for now. We will use the model we created to predict the proverty rate of Accham and Udaypur.\n",
    "\n"
   ]
  },
  {
   "cell_type": "code",
   "execution_count": 0,
   "metadata": {
    "colab": {},
    "colab_type": "code",
    "id": "Amff04VLU2yU"
   },
   "outputs": [],
   "source": [
    "#Write the code to get rid of the first and last rows of the dataframe and call the new dataframe df_2d\n",
    "df_2d = "
   ]
  },
  {
   "cell_type": "code",
   "execution_count": 0,
   "metadata": {
    "colab": {},
    "colab_type": "code",
    "id": "Viir_vo-U2yX"
   },
   "outputs": [],
   "source": [
    "df_2d.shape"
   ]
  },
  {
   "cell_type": "markdown",
   "metadata": {
    "colab_type": "text",
    "id": "AcjxbNQOU2yZ"
   },
   "source": [
    "In two dimensions, the equation of the line is \n",
    "$$y=mx+b $$\n",
    "where b is the intercept and m is the slope of the line. So basically, linear regression algorithm gives us the most optimal value for the intercept and the slope (in two dimensions). The y and x variables remain the same, since they are the data features and cannot be changed. The values that we can control are the intercept(b) and slope(m). There can be multiple straight lines depending upon the values of intercept and slope. Basically what the linear regression algorithm does is it fits multiple lines on the data points and returns the line that results in the least error."
   ]
  },
  {
   "cell_type": "code",
   "execution_count": 0,
   "metadata": {
    "colab": {},
    "colab_type": "code",
    "id": "ledhxsxyHcaw"
   },
   "outputs": [],
   "source": [
    "model= LinearRegression()"
   ]
  },
  {
   "cell_type": "code",
   "execution_count": 0,
   "metadata": {
    "colab": {},
    "colab_type": "code",
    "id": "Odn3m5ZxHgEN"
   },
   "outputs": [],
   "source": [
    "#Fill in the x and y values for fit (Note that we want to predict the poverty rates given the literacy rates)\n",
    "model.fit(,)"
   ]
  },
  {
   "cell_type": "code",
   "execution_count": 0,
   "metadata": {
    "colab": {},
    "colab_type": "code",
    "id": "F93wA_XlHq4D"
   },
   "outputs": [],
   "source": [
    "#Fill in the x values for predict (Note that we want to predict the poverty rates given the literacy rates)\n",
    "predictions = model.predict()"
   ]
  },
  {
   "cell_type": "code",
   "execution_count": 0,
   "metadata": {
    "colab": {},
    "colab_type": "code",
    "id": "OPR8C7RXTc7M"
   },
   "outputs": [],
   "source": [
    "df_2d['predictions'] = predictions"
   ]
  },
  {
   "cell_type": "code",
   "execution_count": 0,
   "metadata": {
    "colab": {},
    "colab_type": "code",
    "id": "eTDCBhMoU2yh"
   },
   "outputs": [],
   "source": [
    "df_2d.head()"
   ]
  },
  {
   "cell_type": "code",
   "execution_count": 0,
   "metadata": {
    "colab": {},
    "colab_type": "code",
    "id": "4AygGy4qRUqk"
   },
   "outputs": [],
   "source": [
    "#Plotting the regression line and the data in one graph\n",
    "sns.lineplot(x='literacy rate', y = 'predictions', data=df_2d, color='red')\n",
    "sns.scatterplot(x='literacy rate', y = 'poverty rate', data=df_2d)"
   ]
  },
  {
   "cell_type": "markdown",
   "metadata": {
    "colab_type": "text",
    "id": "r6o-H43HU2yn"
   },
   "source": [
    "As discussed earlier, linear regression model basically finds the best value for the intercept and slope, which results in a line that best fits the data. To see the value of the intercept and slope calculated by the linear regression algorithm for our dataset, execute the following code."
   ]
  },
  {
   "cell_type": "code",
   "execution_count": 0,
   "metadata": {
    "colab": {},
    "colab_type": "code",
    "id": "Fz3lIZe1U2yo"
   },
   "outputs": [],
   "source": [
    "#To retrieve the intercept:\n",
    "b = model.intercept_[0]\n",
    "print(b)\n",
    "#For retrieving the slope:\n",
    "m = model.coef_[0][0]\n",
    "print(m)"
   ]
  },
  {
   "cell_type": "markdown",
   "metadata": {
    "colab_type": "text",
    "id": "z6aQ2DvYU2yp"
   },
   "source": [
    "So the equation of the line that best fits the data is \n",
    "$$ y = -0.94631567 x + 0.82211828 $$"
   ]
  },
  {
   "cell_type": "markdown",
   "metadata": {
    "colab_type": "text",
    "id": "S9Mzg2kv1TYM"
   },
   "source": [
    "For Achham, the predicted poverty rate is"
   ]
  },
  {
   "cell_type": "code",
   "execution_count": 0,
   "metadata": {
    "colab": {},
    "colab_type": "code",
    "id": "yL4VP-_d2JPh"
   },
   "outputs": [],
   "source": [
    "round(m*0.476151+b , 3)"
   ]
  },
  {
   "cell_type": "markdown",
   "metadata": {
    "colab_type": "text",
    "id": "CGzyptQBhnB2"
   },
   "source": [
    "But, we know that the actual poverty rate was 0.472"
   ]
  },
  {
   "cell_type": "markdown",
   "metadata": {
    "colab_type": "text",
    "id": "zFnuMP3xgE9x"
   },
   "source": [
    "For Udaypur, the predicted poverty rate is"
   ]
  },
  {
   "cell_type": "code",
   "execution_count": 0,
   "metadata": {
    "colab": {},
    "colab_type": "code",
    "id": "0wvwnFY2AsSf"
   },
   "outputs": [],
   "source": [
    "#Write the code for finding the poverty rate for Udaypur\n"
   ]
  },
  {
   "cell_type": "markdown",
   "metadata": {
    "colab_type": "text",
    "id": "TpZb46X8U2yw"
   },
   "source": [
    "But, we know that the actual poverty rate was 0.259"
   ]
  },
  {
   "cell_type": "markdown",
   "metadata": {
    "colab_type": "text",
    "id": "v6W5oAtVwbxe"
   },
   "source": [
    "The accuracy or score of Linear Regression is tied to how well the data is correlated with each other. The coefficient of dertermination (R^2) for Linear Regression is the square of correlation.   "
   ]
  },
  {
   "cell_type": "markdown",
   "metadata": {
    "colab_type": "text",
    "id": "HQQyYNWaU2yx"
   },
   "source": [
    "# Scikit-Learn Linear Regression <a class=\"anchor\" id=\"sklearn-linreg\"></a>\n",
    "\n",
    "Scikit-Learn is one of the most popular Python machine learning library available. It contains a multitude of powerful tools the makes it an ideal choice for use in production environments. It provides a very robust, standardized API and comprehensive documentation, so once a user becomes familiar with the structure of building models with the package, it is fairly easy to apply it to other models.\n",
    "\n",
    "For this reason, we will utilize Scikit-Learn throughout the remainder of this workshop. \n",
    "\n",
    "Scikit-Learn's [LinearRegression](http://scikit-learn.org/stable/modules/generated/sklearn.linear_model.LinearRegression.html) model incorporates several different methods behind the scenes that help it to perform more reliably with different types of datasets.\n",
    "\n",
    "We will use four predictor variables - 'hh size', 'literacy rate', 'nkid06' and 'nkid715' and  to predict the 'poverty rate' where -\n",
    "\n",
    "* `literacy rate` -  ratio of literate population and total population in the district\n",
    "\n",
    "* `nkid06` - average share of kids of ages between 1 and 6 in the households of the district\n",
    "\n",
    "* `nkid715` - average share of kids of ages between 7 and 15 in the households of the district\n",
    "\n"
   ]
  },
  {
   "cell_type": "code",
   "execution_count": 0,
   "metadata": {
    "colab": {},
    "colab_type": "code",
    "id": "OYnbtSgho1S8"
   },
   "outputs": [],
   "source": [
    "df_predict = df[['literacy rate','district','nkid06','nkid715','hhsize']]\n",
    "df_y = df[['poverty rate']]"
   ]
  },
  {
   "cell_type": "code",
   "execution_count": 0,
   "metadata": {
    "colab": {},
    "colab_type": "code",
    "id": "cAr_DnSQqv3f"
   },
   "outputs": [],
   "source": [
    "df_predict.shape"
   ]
  },
  {
   "cell_type": "code",
   "execution_count": 0,
   "metadata": {
    "colab": {},
    "colab_type": "code",
    "id": "V2Yy9BRTpFte"
   },
   "outputs": [],
   "source": [
    "df_predict.dropna(inplace=True)"
   ]
  },
  {
   "cell_type": "code",
   "execution_count": 0,
   "metadata": {
    "colab": {},
    "colab_type": "code",
    "id": "VWEdBp97q4UK"
   },
   "outputs": [],
   "source": [
    "df_predict.isnull().any()"
   ]
  },
  {
   "cell_type": "code",
   "execution_count": 0,
   "metadata": {
    "colab": {},
    "colab_type": "code",
    "id": "RP6pmGorU2y4"
   },
   "outputs": [],
   "source": [
    "#Write the code to drop the column 'district' from the dataframe df_predict\n"
   ]
  },
  {
   "cell_type": "markdown",
   "metadata": {
    "colab_type": "text",
    "id": "o3phZ3gYU2y6"
   },
   "source": [
    "Let us split the data in training and testing set. The test_size parameter allows you to control the ratio of testing set you want to randomly capture from your data set. With the random_state parameter you can guarantee that the output of Run 1 will be equal to the output of Run 2, i.e. your split will be always the same."
   ]
  },
  {
   "cell_type": "code",
   "execution_count": 0,
   "metadata": {
    "colab": {},
    "colab_type": "code",
    "id": "FycVICxhGv_Z"
   },
   "outputs": [],
   "source": [
    "X_train, X_test, y_train, y_test = train_test_split(df_predict, df_y, test_size=0.20, random_state=42)"
   ]
  },
  {
   "cell_type": "code",
   "execution_count": 0,
   "metadata": {
    "colab": {},
    "colab_type": "code",
    "id": "velHrfoUAKhL"
   },
   "outputs": [],
   "source": [
    "# Let us look at the shape our training and testing splits\n",
    "X_train.shape, X_test.shape, y_train.shape, X_test.shape"
   ]
  },
  {
   "cell_type": "code",
   "execution_count": 0,
   "metadata": {
    "colab": {},
    "colab_type": "code",
    "id": "O1BAJQZvU2y_"
   },
   "outputs": [],
   "source": [
    "model= LinearRegression()"
   ]
  },
  {
   "cell_type": "code",
   "execution_count": 0,
   "metadata": {
    "colab": {},
    "colab_type": "code",
    "id": "MvX-3tSbU2zB"
   },
   "outputs": [],
   "source": [
    "model.fit(X_train,y_train)"
   ]
  },
  {
   "cell_type": "code",
   "execution_count": 0,
   "metadata": {
    "colab": {},
    "colab_type": "code",
    "id": "_wOq4LWoU2zC"
   },
   "outputs": [],
   "source": [
    "predictions = model.predict(X_test)"
   ]
  },
  {
   "cell_type": "code",
   "execution_count": 0,
   "metadata": {
    "colab": {},
    "colab_type": "code",
    "id": "-69fuFcmH2uv"
   },
   "outputs": [],
   "source": [
    "df_compare = X_test.reset_index(drop=True)"
   ]
  },
  {
   "cell_type": "code",
   "execution_count": 0,
   "metadata": {
    "colab": {},
    "colab_type": "code",
    "id": "zUvJlRdOH7x0"
   },
   "outputs": [],
   "source": [
    "df_compare['Actual'] = y_test.values"
   ]
  },
  {
   "cell_type": "code",
   "execution_count": 0,
   "metadata": {
    "colab": {},
    "colab_type": "code",
    "id": "b_9KQbaEH__W"
   },
   "outputs": [],
   "source": [
    "df_compare['Predicted'] = predictions"
   ]
  },
  {
   "cell_type": "code",
   "execution_count": 0,
   "metadata": {
    "colab": {},
    "colab_type": "code",
    "id": "lX4yB-80IBqS"
   },
   "outputs": [],
   "source": [
    "df_compare.head()"
   ]
  },
  {
   "cell_type": "code",
   "execution_count": 0,
   "metadata": {
    "colab": {},
    "colab_type": "code",
    "id": "KGZA-r2BU2zI"
   },
   "outputs": [],
   "source": [
    "df_compare.info()"
   ]
  },
  {
   "cell_type": "code",
   "execution_count": 0,
   "metadata": {
    "colab": {},
    "colab_type": "code",
    "id": "4FvorrKoQ45s"
   },
   "outputs": [],
   "source": [
    "#Write a code to plot a scatterplot of the 'Actual' and the 'Predicted' values from df_compare"
   ]
  },
  {
   "cell_type": "markdown",
   "metadata": {
    "colab_type": "text",
    "id": "fSo8lAaAU2zL"
   },
   "source": [
    "The evaluation of Linear Regression can also be done by finding the residuals, which is the difference of the actual and the predicted values. The values of the residuals should be close to zero."
   ]
  },
  {
   "cell_type": "code",
   "execution_count": 0,
   "metadata": {
    "colab": {},
    "colab_type": "code",
    "id": "J9rM0KcEU2zM"
   },
   "outputs": [],
   "source": [
    "df_compare['residuals'] = df_compare['Actual'] - df_compare['Predicted']"
   ]
  },
  {
   "cell_type": "code",
   "execution_count": 0,
   "metadata": {
    "colab": {},
    "colab_type": "code",
    "id": "DVatMDiNaVTL"
   },
   "outputs": [],
   "source": [
    "sns.scatterplot(x='Predicted', y = 'residuals', data=df_compare)"
   ]
  },
  {
   "cell_type": "markdown",
   "metadata": {
    "colab_type": "text",
    "id": "-p9gm4ObU2zQ"
   },
   "source": [
    "# Linear Regression Summary <a class=\"anchor\" id=\"summary\"></a>\n",
    "In this notebook, we have covered the basic concepts of a linear regression, and applied it to estimating poverty rates using several socio-economic variables. "
   ]
  }
 ],
 "metadata": {
  "colab": {
   "collapsed_sections": [],
   "name": "Lab_on_Linear_Regression-Participants.ipynb",
   "provenance": []
  },
  "kernelspec": {
   "display_name": "Python 3",
   "language": "python",
   "name": "python3"
  },
  "language_info": {
   "codemirror_mode": {
    "name": "ipython",
    "version": 3
   },
   "file_extension": ".py",
   "mimetype": "text/x-python",
   "name": "python",
   "nbconvert_exporter": "python",
   "pygments_lexer": "ipython3",
   "version": "3.7.4"
  }
 },
 "nbformat": 4,
 "nbformat_minor": 1
}
